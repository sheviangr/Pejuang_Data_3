{
  "nbformat": 4,
  "nbformat_minor": 0,
  "metadata": {
    "colab": {
      "name": "SheviA2000015005 - M2P2V3_Konversi_Struktur_Data.ipynb",
      "provenance": []
    },
    "kernelspec": {
      "name": "python3",
      "display_name": "Python 3"
    },
    "language_info": {
      "name": "python"
    }
  },
  "cells": [
    {
      "cell_type": "markdown",
      "metadata": {
        "id": "fvdi49INL-4x"
      },
      "source": [
        "#Konversi Struktur Data"
      ]
    },
    {
      "cell_type": "markdown",
      "metadata": {
        "id": "57cD19_kMIBm"
      },
      "source": [
        "###Mengkonversi Tipe data List:"
      ]
    },
    {
      "cell_type": "code",
      "metadata": {
        "id": "v7Sd1U2BLyvb"
      },
      "source": [
        "#membuat 2 list\n",
        "L1 = [1,2,3,4]\n",
        "L2 = [5,6,7,8]"
      ],
      "execution_count": 1,
      "outputs": []
    },
    {
      "cell_type": "code",
      "metadata": {
        "colab": {
          "base_uri": "https://localhost:8080/"
        },
        "id": "Uwc7aYyfMV3k",
        "outputId": "0866bbd3-7b3d-4bc7-fc70-26a6ca3b6014"
      },
      "source": [
        "#Mengkonversi struktur data list\n",
        "k_tuple = tuple(L1)\n",
        "k_set = set(L2)\n",
        "k_dict = dict(zip(L1,L2))\n",
        "#Melihat data yang telah dikonversi\n",
        "print(k_tuple)\n",
        "print(k_set)\n",
        "print(k_dict)"
      ],
      "execution_count": 2,
      "outputs": [
        {
          "output_type": "stream",
          "name": "stdout",
          "text": [
            "(1, 2, 3, 4)\n",
            "{8, 5, 6, 7}\n",
            "{1: 5, 2: 6, 3: 7, 4: 8}\n"
          ]
        }
      ]
    },
    {
      "cell_type": "markdown",
      "metadata": {
        "id": "joGWxe1_Mxsd"
      },
      "source": [
        "###Mengkonversi Data Tuple"
      ]
    },
    {
      "cell_type": "code",
      "metadata": {
        "id": "In4MyUCiMvgI"
      },
      "source": [
        "#Membuat dua tuple\n",
        "T1 = (1,2,3,4)\n",
        "T2 = (5,6,7,8)"
      ],
      "execution_count": 3,
      "outputs": []
    },
    {
      "cell_type": "code",
      "metadata": {
        "colab": {
          "base_uri": "https://localhost:8080/"
        },
        "id": "AAnHCr3zM-Wm",
        "outputId": "a4c0d2c6-bf24-4220-ea9d-c5dd530a9180"
      },
      "source": [
        "#Mengkonversi struktur data tuple\n",
        "k_list = list(T1)\n",
        "k_set = set(T2)\n",
        "k_dict = dict(zip(T1,T2))\n",
        "#Melihat data yang telah dikonversi\n",
        "print(k_list)\n",
        "print(k_set)\n",
        "print(k_dict)"
      ],
      "execution_count": 4,
      "outputs": [
        {
          "output_type": "stream",
          "name": "stdout",
          "text": [
            "[1, 2, 3, 4]\n",
            "{8, 5, 6, 7}\n",
            "{1: 5, 2: 6, 3: 7, 4: 8}\n"
          ]
        }
      ]
    },
    {
      "cell_type": "markdown",
      "metadata": {
        "id": "v0AHepFWNXoR"
      },
      "source": [
        "###Mengkonversi Tipe Data Set"
      ]
    },
    {
      "cell_type": "code",
      "metadata": {
        "id": "2fVP3oeYNVha"
      },
      "source": [
        "#Membuat dua set\n",
        "S1 = {1,2,3,4}\n",
        "S2 = {5,6,7,8}"
      ],
      "execution_count": 5,
      "outputs": []
    },
    {
      "cell_type": "code",
      "metadata": {
        "colab": {
          "base_uri": "https://localhost:8080/"
        },
        "id": "qhpqwymlNg2n",
        "outputId": "f9c1acaa-3582-42df-a5c0-80fbf4e79357"
      },
      "source": [
        "#Mengkonversi struktur data set\n",
        "k_list = list(S1)\n",
        "k_tuple = tuple(S2)\n",
        "k_dict = dict(zip(S1,S2))\n",
        "#Melihat data yang telah dikonversi\n",
        "print(k_list)\n",
        "print(k_tuple)\n",
        "print(k_dict)"
      ],
      "execution_count": 6,
      "outputs": [
        {
          "output_type": "stream",
          "name": "stdout",
          "text": [
            "[1, 2, 3, 4]\n",
            "(8, 5, 6, 7)\n",
            "{1: 8, 2: 5, 3: 6, 4: 7}\n"
          ]
        }
      ]
    },
    {
      "cell_type": "markdown",
      "metadata": {
        "id": "KLeIRaKIN7oL"
      },
      "source": [
        "###Mengkonversi tipe data dictionary"
      ]
    },
    {
      "cell_type": "code",
      "metadata": {
        "id": "Ui1R_FnKN55j"
      },
      "source": [
        "#Membuat Dictionary\n",
        "D = {\n",
        "    \"nama\": \"Andi\",\n",
        "     \"alamat\": \"Yogyakarta\",\n",
        "     \"umur\": 20\n",
        "}"
      ],
      "execution_count": 7,
      "outputs": []
    },
    {
      "cell_type": "code",
      "metadata": {
        "colab": {
          "base_uri": "https://localhost:8080/"
        },
        "id": "Jafr50HLOUGF",
        "outputId": "12724c03-7f9b-4d02-ae00-5ec3bbadc80b"
      },
      "source": [
        "#Mengkonversi struktur data dictionary dari key dan value-nya\n",
        "k_list = list(D.keys())\n",
        "k_tuple = tuple(D.values())\n",
        "k_set = set(D.keys())\n",
        "#Melihat data yang telah dikonversi\n",
        "print(k_list)\n",
        "print(k_tuple)\n",
        "print(k_set)"
      ],
      "execution_count": 8,
      "outputs": [
        {
          "output_type": "stream",
          "name": "stdout",
          "text": [
            "['nama', 'alamat', 'umur']\n",
            "('Andi', 'Yogyakarta', 20)\n",
            "{'umur', 'nama', 'alamat'}\n"
          ]
        }
      ]
    },
    {
      "cell_type": "markdown",
      "metadata": {
        "id": "zKHk7iluRUcX"
      },
      "source": [
        "#Latihan"
      ]
    },
    {
      "cell_type": "markdown",
      "metadata": {
        "id": "nE8SXt7dRWIP"
      },
      "source": [
        "###Mengkonversi Tipe data List:"
      ]
    },
    {
      "cell_type": "code",
      "metadata": {
        "id": "dt-oCVs9RfYp"
      },
      "source": [
        "#membuat 2 list\n",
        "L3 = [8,4,3,7]\n",
        "L4 = [9,6,5,2]"
      ],
      "execution_count": 11,
      "outputs": []
    },
    {
      "cell_type": "code",
      "metadata": {
        "colab": {
          "base_uri": "https://localhost:8080/"
        },
        "id": "yAv-lDhPRiwg",
        "outputId": "3ba4e8ea-894b-4b08-b7af-5e4a1f27bf9a"
      },
      "source": [
        "#Mengkonversi struktur data list\n",
        "k_tuple = tuple(L3)\n",
        "k_set = set(L4)\n",
        "k_dict = dict(zip(L3,L4))\n",
        "#Melihat data yang telah dikonversi\n",
        "print(k_tuple)\n",
        "print(k_set)\n",
        "print(k_dict)"
      ],
      "execution_count": 12,
      "outputs": [
        {
          "output_type": "stream",
          "name": "stdout",
          "text": [
            "(8, 4, 3, 7)\n",
            "{9, 2, 5, 6}\n",
            "{8: 9, 4: 6, 3: 5, 7: 2}\n"
          ]
        }
      ]
    },
    {
      "cell_type": "markdown",
      "metadata": {
        "id": "mSfqZmoGR2yN"
      },
      "source": [
        "###Mengkonversi Data Tuple"
      ]
    },
    {
      "cell_type": "code",
      "metadata": {
        "id": "QAzWTeKIR9QZ"
      },
      "source": [
        "#Membuat dua tuple\n",
        "T3 = (8,4,3,7)\n",
        "T4 = (9,6,5,2)"
      ],
      "execution_count": 15,
      "outputs": []
    },
    {
      "cell_type": "code",
      "metadata": {
        "colab": {
          "base_uri": "https://localhost:8080/"
        },
        "id": "yZORcBtISH0o",
        "outputId": "09c9959b-9b28-432f-9b6a-2c41e4c2f83b"
      },
      "source": [
        "#Mengkonversi struktur data tuple\n",
        "k_list = list(T3)\n",
        "k_set = set(T4)\n",
        "k_dict = dict(zip(T3,T4))\n",
        "#Melihat data yang telah dikonversi\n",
        "print(k_list)\n",
        "print(k_set)\n",
        "print(k_dict)"
      ],
      "execution_count": 16,
      "outputs": [
        {
          "output_type": "stream",
          "name": "stdout",
          "text": [
            "[8, 4, 3, 7]\n",
            "{9, 2, 5, 6}\n",
            "{8: 9, 4: 6, 3: 5, 7: 2}\n"
          ]
        }
      ]
    },
    {
      "cell_type": "markdown",
      "metadata": {
        "id": "rrulTlw2SPjq"
      },
      "source": [
        "###Mengkonversi Tipe Data Set"
      ]
    },
    {
      "cell_type": "code",
      "metadata": {
        "id": "2S8YH3T8SU0L"
      },
      "source": [
        "#Membuat dua set\n",
        "S3 = {8,4,3,7}\n",
        "S4 = {9,6,5,2}"
      ],
      "execution_count": 18,
      "outputs": []
    },
    {
      "cell_type": "code",
      "metadata": {
        "colab": {
          "base_uri": "https://localhost:8080/"
        },
        "id": "99Ox5wHgSsB6",
        "outputId": "c7303b83-57c0-4e8b-cc25-1ecd1e019bc2"
      },
      "source": [
        "#Mengkonversi struktur data set\n",
        "k_list = list(S3)\n",
        "k_tuple = tuple(S4)\n",
        "k_dict = dict(zip(S3,S4))\n",
        "#Melihat data yang telah dikonversi\n",
        "print(k_list)\n",
        "print(k_tuple)\n",
        "print(k_dict)"
      ],
      "execution_count": 19,
      "outputs": [
        {
          "output_type": "stream",
          "name": "stdout",
          "text": [
            "[8, 3, 4, 7]\n",
            "(9, 2, 5, 6)\n",
            "{8: 9, 3: 2, 4: 5, 7: 6}\n"
          ]
        }
      ]
    },
    {
      "cell_type": "markdown",
      "metadata": {
        "id": "Sy8nX0TRS09R"
      },
      "source": [
        "###Mengkonversi tipe data dictionary"
      ]
    },
    {
      "cell_type": "code",
      "metadata": {
        "id": "8Di-YFi8SyUL"
      },
      "source": [
        "#Membuat Dictionary\n",
        "D1 = {\n",
        "    \"nama\": \"Shevi\",\n",
        "     \"alamat\": \"Tangerang\",\n",
        "     \"umur\": 19\n",
        "}"
      ],
      "execution_count": 21,
      "outputs": []
    },
    {
      "cell_type": "code",
      "metadata": {
        "colab": {
          "base_uri": "https://localhost:8080/"
        },
        "id": "DyAS5xDpTA8Z",
        "outputId": "97893aed-71c5-4dd5-ac53-b6c7cfaaecaa"
      },
      "source": [
        "#Mengkonversi struktur data dictionary dari key dan value-nya\n",
        "k_list = list(D1.keys())\n",
        "k_tuple = tuple(D1.values())\n",
        "k_set = set(D1.keys())\n",
        "#Melihat data yang telah dikonversi\n",
        "print(k_list)\n",
        "print(k_tuple)\n",
        "print(k_set)"
      ],
      "execution_count": 22,
      "outputs": [
        {
          "output_type": "stream",
          "name": "stdout",
          "text": [
            "['nama', 'alamat', 'umur']\n",
            "('Shevi', 'Tangerang', 19)\n",
            "{'umur', 'nama', 'alamat'}\n"
          ]
        }
      ]
    }
  ]
}