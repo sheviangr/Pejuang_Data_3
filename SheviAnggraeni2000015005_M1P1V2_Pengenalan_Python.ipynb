{
  "nbformat": 4,
  "nbformat_minor": 0,
  "metadata": {
    "colab": {
      "name": "SheviAnggraeni2000015005_M1P1V2_Pengenalan_Python.ipynb",
      "provenance": []
    },
    "kernelspec": {
      "name": "python3",
      "display_name": "Python 3"
    },
    "language_info": {
      "name": "python"
    }
  },
  "cells": [
    {
      "cell_type": "markdown",
      "metadata": {
        "id": "l9CTtrAQwVLS"
      },
      "source": [
        "#Shevi Anggraeni\n",
        "#Nim 2000015005"
      ]
    },
    {
      "cell_type": "markdown",
      "metadata": {
        "id": "-mE57u5Cw1wm"
      },
      "source": [
        "1. Statements"
      ]
    },
    {
      "cell_type": "code",
      "metadata": {
        "colab": {
          "base_uri": "https://localhost:8080/"
        },
        "id": "-fJspLRvwxys",
        "outputId": "c82716fd-6c25-46db-c43e-2baf18e86031"
      },
      "source": [
        "print(\"belajar Python menyenangkan\")\n",
        "print(\"halo dunia\")"
      ],
      "execution_count": 1,
      "outputs": [
        {
          "output_type": "stream",
          "name": "stdout",
          "text": [
            "belajar Python menyenangkan\n",
            "halo dunia\n"
          ]
        }
      ]
    },
    {
      "cell_type": "markdown",
      "metadata": {
        "id": "-a9RgssHxG0t"
      },
      "source": [
        "2. Variables"
      ]
    },
    {
      "cell_type": "code",
      "metadata": {
        "id": "7T12MHbnxJZD"
      },
      "source": [
        "bilangan1 = 5\n",
        "bilangan2 = 10\n",
        "kalimat = \"Pejuang Data 3\""
      ],
      "execution_count": 2,
      "outputs": []
    },
    {
      "cell_type": "markdown",
      "metadata": {
        "id": "QZV_Ro3bxbIT"
      },
      "source": [
        "3. Operators"
      ]
    },
    {
      "cell_type": "code",
      "metadata": {
        "colab": {
          "base_uri": "https://localhost:8080/"
        },
        "id": "SWJrwgnpxeZB",
        "outputId": "79cc1034-7d88-4f06-a52e-1152de9d10dc"
      },
      "source": [
        "bilangan1 + bilangan2"
      ],
      "execution_count": 3,
      "outputs": [
        {
          "output_type": "execute_result",
          "data": {
            "text/plain": [
              "15"
            ]
          },
          "metadata": {},
          "execution_count": 3
        }
      ]
    },
    {
      "cell_type": "markdown",
      "metadata": {
        "id": "fBaIyCghxrQx"
      },
      "source": [
        "4. Comments"
      ]
    },
    {
      "cell_type": "markdown",
      "metadata": {
        "id": "RQyp4r5DxvWV"
      },
      "source": [
        "a. single line comment"
      ]
    },
    {
      "cell_type": "code",
      "metadata": {
        "colab": {
          "base_uri": "https://localhost:8080/"
        },
        "id": "clXMcXtSx2ZI",
        "outputId": "bbe253f4-e950-4ec9-9f89-05846548ea10"
      },
      "source": [
        "# Ini adalah Comment\n",
        "print(\"belajar Python\")"
      ],
      "execution_count": 4,
      "outputs": [
        {
          "output_type": "stream",
          "name": "stdout",
          "text": [
            "belajar Python\n"
          ]
        }
      ]
    },
    {
      "cell_type": "markdown",
      "metadata": {
        "id": "l8kmZfU-x_2i"
      },
      "source": [
        "b. multi line comment"
      ]
    },
    {
      "cell_type": "code",
      "metadata": {
        "colab": {
          "base_uri": "https://localhost:8080/"
        },
        "id": "-GvrpkUSyEwD",
        "outputId": "a22ceafa-fa49-45da-dfd5-68f97bc78d3e"
      },
      "source": [
        "'''\n",
        "Ini adalah komentar panjang\n",
        "Bisa digunakan untuk memberikan penjelasan\n",
        "panjang pada Sell kode Python,\n",
        "Misal dokumentasi program, spesifikasi\n",
        "input output atau lainnya\n",
        "'''\n",
        "\n",
        "print(\"Belajar Python menyenangkan\")"
      ],
      "execution_count": 6,
      "outputs": [
        {
          "output_type": "stream",
          "name": "stdout",
          "text": [
            "Belajar Python menyenangkan\n"
          ]
        }
      ]
    }
  ]
}