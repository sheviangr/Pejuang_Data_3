{
  "nbformat": 4,
  "nbformat_minor": 0,
  "metadata": {
    "colab": {
      "name": "SheviA2000015005 - M2P1V2_Struktur_Data_List.ipynb",
      "provenance": []
    },
    "kernelspec": {
      "name": "python3",
      "display_name": "Python 3"
    },
    "language_info": {
      "name": "python"
    }
  },
  "cells": [
    {
      "cell_type": "markdown",
      "metadata": {
        "id": "h-f7XlfoKbfs"
      },
      "source": [
        "#List"
      ]
    },
    {
      "cell_type": "code",
      "metadata": {
        "colab": {
          "base_uri": "https://localhost:8080/"
        },
        "id": "7gsoyTzrKjVV",
        "outputId": "c8477142-f3c4-45f2-f42d-c5977fb7c7cf"
      },
      "source": [
        "#Contoh List\n",
        "L1 = [1, 4, 2, 13]\n",
        "\n",
        "print(type(L1))"
      ],
      "execution_count": 34,
      "outputs": [
        {
          "output_type": "stream",
          "name": "stdout",
          "text": [
            "<class 'list'>\n"
          ]
        }
      ]
    },
    {
      "cell_type": "code",
      "metadata": {
        "colab": {
          "base_uri": "https://localhost:8080/"
        },
        "id": "IcDgRExmLLTV",
        "outputId": "627fb9ea-a683-4846-b280-272aa615dbd9"
      },
      "source": [
        "L2 = [\"a\", \"Python\", 3]\n",
        "L2"
      ],
      "execution_count": 35,
      "outputs": [
        {
          "output_type": "execute_result",
          "data": {
            "text/plain": [
              "['a', 'Python', 3]"
            ]
          },
          "metadata": {},
          "execution_count": 35
        }
      ]
    },
    {
      "cell_type": "code",
      "metadata": {
        "colab": {
          "base_uri": "https://localhost:8080/"
        },
        "id": "efs5qHvxLU2e",
        "outputId": "665e67a3-c376-4998-90ca-f0014687fae3"
      },
      "source": [
        "print(L1)\n",
        "print(L2)"
      ],
      "execution_count": 36,
      "outputs": [
        {
          "output_type": "stream",
          "name": "stdout",
          "text": [
            "[1, 4, 2, 13]\n",
            "['a', 'Python', 3]\n"
          ]
        }
      ]
    },
    {
      "cell_type": "markdown",
      "metadata": {
        "id": "IKBf-Z3lLjSS"
      },
      "source": [
        "##Latihan 1"
      ]
    },
    {
      "cell_type": "code",
      "metadata": {
        "colab": {
          "base_uri": "https://localhost:8080/"
        },
        "id": "5VGhENFoLl8T",
        "outputId": "424eda0b-e5e6-4f8c-ad7b-4756670b0e64"
      },
      "source": [
        "A1 = [8, 7, 2, 0]\n",
        "\n",
        "print(type(L1))"
      ],
      "execution_count": 37,
      "outputs": [
        {
          "output_type": "stream",
          "name": "stdout",
          "text": [
            "<class 'list'>\n"
          ]
        }
      ]
    },
    {
      "cell_type": "code",
      "metadata": {
        "colab": {
          "base_uri": "https://localhost:8080/"
        },
        "id": "xHDpR3EGLy7N",
        "outputId": "01d24919-41c6-4dad-e888-639f1ee7e64f"
      },
      "source": [
        "A2 = [\"s\", \"Helo World\", 8]\n",
        "A2"
      ],
      "execution_count": 38,
      "outputs": [
        {
          "output_type": "execute_result",
          "data": {
            "text/plain": [
              "['s', 'Helo World', 8]"
            ]
          },
          "metadata": {},
          "execution_count": 38
        }
      ]
    },
    {
      "cell_type": "code",
      "metadata": {
        "colab": {
          "base_uri": "https://localhost:8080/"
        },
        "id": "1fbs3gA7MDVQ",
        "outputId": "c4194877-f85f-40e6-8536-e5e7cabb35a4"
      },
      "source": [
        "print(A1)\n",
        "print(A2)"
      ],
      "execution_count": 39,
      "outputs": [
        {
          "output_type": "stream",
          "name": "stdout",
          "text": [
            "[8, 7, 2, 0]\n",
            "['s', 'Helo World', 8]\n"
          ]
        }
      ]
    },
    {
      "cell_type": "markdown",
      "metadata": {
        "id": "7vetucGDMMW0"
      },
      "source": [
        "#Sifat - Sifat List"
      ]
    },
    {
      "cell_type": "code",
      "metadata": {
        "colab": {
          "base_uri": "https://localhost:8080/"
        },
        "id": "BwQu4CQBMQ46",
        "outputId": "9290541d-325e-4341-ed34-2806d1f5e745"
      },
      "source": [
        "#Terurut/Ordered\n",
        "print(\"Memanggil List L1 dengan indeks berurutan: \", L1[0:3])\n",
        "\n",
        "#Bisa Diganti/Mutable\n",
        "L1[1] = 2\n",
        "print(\"List L1 setelah diganti elemennya: \", L1)\n",
        "\n",
        "L1 = [1, \"dua\", True, 2+3j]\n",
        "\n",
        "#Dapat Diindeks/Slicing\n",
        "print(\"Slicing List L1: \", L1[3])\n",
        "\n",
        "#Dapat Diijinkan Duplikasi\n",
        "L1 = [1, \"dua\", True, 2+3j, 2+3j]\n",
        "print(\"Duplikasi pada List L1: \", L1)"
      ],
      "execution_count": 40,
      "outputs": [
        {
          "output_type": "stream",
          "name": "stdout",
          "text": [
            "Memanggil List L1 dengan indeks berurutan:  [1, 4, 2]\n",
            "List L1 setelah diganti elemennya:  [1, 2, 2, 13]\n",
            "Slicing List L1:  (2+3j)\n",
            "Duplikasi pada List L1:  [1, 'dua', True, (2+3j), (2+3j)]\n"
          ]
        }
      ]
    },
    {
      "cell_type": "markdown",
      "metadata": {
        "id": "gq2Y0InbNyEk"
      },
      "source": [
        "##Latihan 2"
      ]
    },
    {
      "cell_type": "code",
      "metadata": {
        "colab": {
          "base_uri": "https://localhost:8080/"
        },
        "id": "Y3ukS1ubN1Gk",
        "outputId": "06bd487e-1d57-4acc-d417-9dad3008f6ed"
      },
      "source": [
        "#Terurut/Ordered\n",
        "print(\"Memanggil List A1 dengan indeks berurutan: \", A1[0:3])\n",
        "\n",
        "#Bisa Diganti/Mutable\n",
        "A1[3] = 2\n",
        "print(\"List A1 setelah diganti elemennya: \", A1)\n",
        "\n",
        "A1 = [7, \"shevi\", True, 4+8j]\n",
        "\n",
        "#Dapat Diindeks/Slicing\n",
        "print(\"Slicing List A1: \", A1[3])\n",
        "\n",
        "#Dapat Diijinkan Duplikasi\n",
        "A1 = [7, \"shevi\", True, 4+8j, 4+8j]\n",
        "print(\"Duplikasi pada List A1: \", A1)"
      ],
      "execution_count": 41,
      "outputs": [
        {
          "output_type": "stream",
          "name": "stdout",
          "text": [
            "Memanggil List A1 dengan indeks berurutan:  [8, 7, 2]\n",
            "List A1 setelah diganti elemennya:  [8, 7, 2, 2]\n",
            "Slicing List A1:  (4+8j)\n",
            "Duplikasi pada List A1:  [7, 'shevi', True, (4+8j), (4+8j)]\n"
          ]
        }
      ]
    }
  ]
}