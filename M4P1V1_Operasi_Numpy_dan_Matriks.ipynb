{
  "nbformat": 4,
  "nbformat_minor": 0,
  "metadata": {
    "colab": {
      "name": "M4P1V1_Operasi_Numpy_dan_Matriks.ipynb",
      "provenance": []
    },
    "kernelspec": {
      "name": "python3",
      "display_name": "Python 3"
    },
    "language_info": {
      "name": "python"
    }
  },
  "cells": [
    {
      "cell_type": "markdown",
      "metadata": {
        "id": "bGrsiXjI_fEh"
      },
      "source": [
        "# Numpy Array"
      ]
    },
    {
      "cell_type": "markdown",
      "metadata": {
        "id": "EG_ARzV7_jqb"
      },
      "source": [
        "NumPy merupakan salah satu library Python yang banyak digunakan dalam proses analisis data karena fiturnya yang hebat"
      ]
    },
    {
      "cell_type": "code",
      "metadata": {
        "id": "JSj4i_qE_dJS"
      },
      "source": [
        "import numpy as np"
      ],
      "execution_count": 1,
      "outputs": []
    },
    {
      "cell_type": "markdown",
      "metadata": {
        "id": "EPakRqoO_njd"
      },
      "source": [
        "## Membuat Array NumPy\n",
        "\n",
        "Kita bisa membuat Array menggunakan NumPy dengan membungkusnya terlebih dahulu di List dan dirubah menjadi numpy array."
      ]
    },
    {
      "cell_type": "code",
      "metadata": {
        "id": "yFzttx2j_lyI",
        "outputId": "6afcf0f0-5b30-40a6-b582-2a7adcc03d51",
        "colab": {
          "base_uri": "https://localhost:8080/"
        }
      },
      "source": [
        "list_1 = [1,2,3,4,5]\n",
        "arr_1 = np.array([list_1])\n",
        "arr_1"
      ],
      "execution_count": 2,
      "outputs": [
        {
          "output_type": "execute_result",
          "data": {
            "text/plain": [
              "array([[1, 2, 3, 4, 5]])"
            ]
          },
          "metadata": {},
          "execution_count": 2
        }
      ]
    },
    {
      "cell_type": "markdown",
      "metadata": {
        "id": "AXLtzLkq_ykf"
      },
      "source": [
        "Beberapa fungsi yang dapat digunakan dalam membuat array \n",
        "\n",
        "```\n",
        "zeros()    -> Membuat array dengan nilai 0\n",
        "ones()     -> Membuat array dengan nilai 1\n",
        "arange()   -> Membuat array dengan nilai dalam range \n",
        "linspace() -> Membuat array dengan nilai dalam interval\n",
        "logspace() -> Membuat array dengan nilai log Base10 dalam interval\n",
        "full       -> Membuat array dengan semua elemen penyusunnya sama\n",
        "full_like  -> Membuat array dengan semua elemen penyusunnya sama namun ukurannya dari array lainnya\n",
        "identity   -> Membuat array matriks identitas\n",
        "repeat     -> Membuat array dengan perulangan array atau sequence \n",
        "```\n",
        "\n"
      ]
    },
    {
      "cell_type": "code",
      "metadata": {
        "id": "lM_EfsN5_wlV",
        "outputId": "40dc25a4-a039-4f23-a6c1-5193584f8844",
        "colab": {
          "base_uri": "https://localhost:8080/"
        }
      },
      "source": [
        "print(np.zeros((2,5))) # membuat array dengan nilai 0 dengan shape (5,5)"
      ],
      "execution_count": 3,
      "outputs": [
        {
          "output_type": "stream",
          "name": "stdout",
          "text": [
            "[[0. 0. 0. 0. 0.]\n",
            " [0. 0. 0. 0. 0.]]\n"
          ]
        }
      ]
    },
    {
      "cell_type": "code",
      "metadata": {
        "id": "IvFCDJx2yKIp",
        "outputId": "746ce1a8-99f9-4caf-87b8-55eb2ee0902a",
        "colab": {
          "base_uri": "https://localhost:8080/"
        }
      },
      "source": [
        "print(np.ones((5,3))) # membuat array dengan nilai 1 dengan shape (5,5)"
      ],
      "execution_count": 4,
      "outputs": [
        {
          "output_type": "stream",
          "name": "stdout",
          "text": [
            "[[1. 1. 1.]\n",
            " [1. 1. 1.]\n",
            " [1. 1. 1.]\n",
            " [1. 1. 1.]\n",
            " [1. 1. 1.]]\n"
          ]
        }
      ]
    },
    {
      "cell_type": "code",
      "metadata": {
        "id": "SeLnUH3xyAYH",
        "outputId": "576ebc27-d998-4f4f-ff55-9d8b6cee7cf6",
        "colab": {
          "base_uri": "https://localhost:8080/"
        }
      },
      "source": [
        "print(np.arange(1, 10, 2)) #arange(start, stop, step)"
      ],
      "execution_count": 5,
      "outputs": [
        {
          "output_type": "stream",
          "name": "stdout",
          "text": [
            "[1 3 5 7 9]\n"
          ]
        }
      ]
    },
    {
      "cell_type": "code",
      "metadata": {
        "id": "lHzlmuF-yXbR",
        "outputId": "7faec2ea-ba45-49fd-ef5f-00e78a5af63c",
        "colab": {
          "base_uri": "https://localhost:8080/"
        }
      },
      "source": [
        "print(np.linspace(1, 10, 2)) # linespace(start, stop, number)"
      ],
      "execution_count": 6,
      "outputs": [
        {
          "output_type": "stream",
          "name": "stdout",
          "text": [
            "[ 1. 10.]\n"
          ]
        }
      ]
    },
    {
      "cell_type": "code",
      "metadata": {
        "id": "TzPMWbaFyZk6",
        "outputId": "d9f0a397-bf2d-4c51-fabc-b6c0d9b49f6c",
        "colab": {
          "base_uri": "https://localhost:8080/"
        }
      },
      "source": [
        "print(np.logspace(1, 10, 2)) # logspace(start, stop, number)"
      ],
      "execution_count": 7,
      "outputs": [
        {
          "output_type": "stream",
          "name": "stdout",
          "text": [
            "[1.e+01 1.e+10]\n"
          ]
        }
      ]
    },
    {
      "cell_type": "code",
      "metadata": {
        "id": "IKWFl4EotoHr",
        "outputId": "0f86f4b4-8014-4866-b149-650571c7c419",
        "colab": {
          "base_uri": "https://localhost:8080/"
        }
      },
      "source": [
        "print(np.full((2,2), 4)) # Membuat array matriks dengan shape (2,2) dengan elemen 99"
      ],
      "execution_count": 8,
      "outputs": [
        {
          "output_type": "stream",
          "name": "stdout",
          "text": [
            "[[4 4]\n",
            " [4 4]]\n"
          ]
        }
      ]
    },
    {
      "cell_type": "code",
      "metadata": {
        "id": "5xDMYV4KtoHr",
        "outputId": "0610c33d-643e-4e04-c5bc-2042e9a71808",
        "colab": {
          "base_uri": "https://localhost:8080/"
        }
      },
      "source": [
        "A = np.array([[1,2,3,4,5,6,7],[8,9,10,11,12,13,14]])\n",
        "print(A)\n",
        "\n",
        "print(np.full_like(A, 3)) # Membuat array matriks dengan shape yang sama dengan A dengan semua elemennya 4"
      ],
      "execution_count": 9,
      "outputs": [
        {
          "output_type": "stream",
          "name": "stdout",
          "text": [
            "[[ 1  2  3  4  5  6  7]\n",
            " [ 8  9 10 11 12 13 14]]\n",
            "[[3 3 3 3 3 3 3]\n",
            " [3 3 3 3 3 3 3]]\n"
          ]
        }
      ]
    },
    {
      "cell_type": "code",
      "metadata": {
        "id": "nb9k8a9xtoHs",
        "outputId": "536991b4-abb3-4ab8-edbf-877927c7721d",
        "colab": {
          "base_uri": "https://localhost:8080/"
        }
      },
      "source": [
        "print(np.random.rand(4,2)) # Random decimal numbers"
      ],
      "execution_count": 10,
      "outputs": [
        {
          "output_type": "stream",
          "name": "stdout",
          "text": [
            "[[0.82970278 0.36735454]\n",
            " [0.50068876 0.71913643]\n",
            " [0.12063447 0.50096136]\n",
            " [0.09619997 0.16202562]]\n"
          ]
        }
      ]
    },
    {
      "cell_type": "code",
      "metadata": {
        "id": "-tvTC9LUtoHs",
        "outputId": "2c39a383-f626-4728-a4c7-14f9c981c744",
        "colab": {
          "base_uri": "https://localhost:8080/"
        }
      },
      "source": [
        "print(np.random.randint(-4,8, size=(3,3))) # Random Integer values"
      ],
      "execution_count": 11,
      "outputs": [
        {
          "output_type": "stream",
          "name": "stdout",
          "text": [
            "[[-4 -1  4]\n",
            " [-4  7  4]\n",
            " [ 2 -3  2]]\n"
          ]
        }
      ]
    },
    {
      "cell_type": "code",
      "metadata": {
        "id": "qgJCp7CTtoHs",
        "outputId": "a5227b96-d886-42ae-e36b-9198e7b72c34",
        "colab": {
          "base_uri": "https://localhost:8080/"
        }
      },
      "source": [
        "print(np.identity(5)) # Membuat matriks identitas"
      ],
      "execution_count": 12,
      "outputs": [
        {
          "output_type": "stream",
          "name": "stdout",
          "text": [
            "[[1. 0. 0. 0. 0.]\n",
            " [0. 1. 0. 0. 0.]\n",
            " [0. 0. 1. 0. 0.]\n",
            " [0. 0. 0. 1. 0.]\n",
            " [0. 0. 0. 0. 1.]]\n"
          ]
        }
      ]
    },
    {
      "cell_type": "code",
      "metadata": {
        "id": "d38WhNZEtoHs",
        "outputId": "6f2773f1-4ad2-4fa9-da8c-b9dafaa638d4",
        "colab": {
          "base_uri": "https://localhost:8080/"
        }
      },
      "source": [
        "arr = np.array([[1,2,3]]) # Membuat matriks dengan perulangan array\n",
        "r1 = np.repeat(arr,3, axis=0)\n",
        "print(r1)"
      ],
      "execution_count": 13,
      "outputs": [
        {
          "output_type": "stream",
          "name": "stdout",
          "text": [
            "[[1 2 3]\n",
            " [1 2 3]\n",
            " [1 2 3]]\n"
          ]
        }
      ]
    },
    {
      "cell_type": "markdown",
      "metadata": {
        "id": "ul3m1TWxt97z"
      },
      "source": [
        "## Metode-metode pada Array"
      ]
    },
    {
      "cell_type": "markdown",
      "metadata": {
        "id": "cjyiQG0vuBpv"
      },
      "source": [
        "Objek array pada Python Numpy memiliki berbagai method untuk melakukan operasi atau perintah-perintah tertentu. Berikut adalah fungsi-fungsi yang merupakan metode pada array yang sering dipakai:"
      ]
    },
    {
      "cell_type": "markdown",
      "metadata": {
        "id": "hwNuq4E0udJa"
      },
      "source": [
        "**array.ndim**\n",
        "\n",
        "Metode ini digunakan untuk mengetahui dimensi dari array."
      ]
    },
    {
      "cell_type": "code",
      "metadata": {
        "id": "MjssI-Fbu0sp",
        "outputId": "54ba48fc-d483-40f8-bce6-a9fddb3afee3",
        "colab": {
          "base_uri": "https://localhost:8080/"
        }
      },
      "source": [
        "a=np.array([29, 28, 30], dtype='int32')\n",
        "print(a)\n",
        "\n",
        "print(\"Dimensi dari array a adalah \", a.ndim)"
      ],
      "execution_count": 18,
      "outputs": [
        {
          "output_type": "stream",
          "name": "stdout",
          "text": [
            "[29 28 30]\n",
            "Dimensi dari array a adalah  1\n"
          ]
        }
      ]
    },
    {
      "cell_type": "markdown",
      "metadata": {
        "id": "6iOeeeuTvhkR"
      },
      "source": [
        "**array.shape**\n",
        "\n",
        "Metode ini digunakan untuk mengetahui ukuran (variabel dan baris) dari array."
      ]
    },
    {
      "cell_type": "code",
      "metadata": {
        "id": "QZXy4mKQvrYs",
        "outputId": "acd36253-1373-4a39-b917-b62fb1238d76",
        "colab": {
          "base_uri": "https://localhost:8080/"
        }
      },
      "source": [
        "b = np.array([[9.0,8.0,7.0],[6.0,5.0,4.0]])\n",
        "print(b)\n",
        "\n",
        "print(\"Ukuran Shape dari array b adalah \", b.shape)"
      ],
      "execution_count": 19,
      "outputs": [
        {
          "output_type": "stream",
          "name": "stdout",
          "text": [
            "[[9. 8. 7.]\n",
            " [6. 5. 4.]]\n",
            "Ukuran Shape dari array b adalah  (2, 3)\n"
          ]
        }
      ]
    },
    {
      "cell_type": "markdown",
      "metadata": {
        "id": "KP9m7orSvznu"
      },
      "source": [
        "**array.dtype**\n",
        "\n",
        "Metode ini digunakan untuk mengetahui type data dari elemen penyusun array."
      ]
    },
    {
      "cell_type": "code",
      "metadata": {
        "id": "51GdF-tqv7RI",
        "outputId": "dc708464-fb52-40d4-b53c-488729a3d2e3",
        "colab": {
          "base_uri": "https://localhost:8080/"
        }
      },
      "source": [
        "a.dtype"
      ],
      "execution_count": 20,
      "outputs": [
        {
          "output_type": "execute_result",
          "data": {
            "text/plain": [
              "dtype('int32')"
            ]
          },
          "metadata": {},
          "execution_count": 20
        }
      ]
    },
    {
      "cell_type": "markdown",
      "metadata": {
        "id": "Xe520ULEwZZ6"
      },
      "source": [
        "**array.size**\n",
        "\n",
        "Metode ini digunakan untuk menghitung jumlah elemen dari array."
      ]
    },
    {
      "cell_type": "code",
      "metadata": {
        "id": "Dm1-Ok9-wkvs",
        "outputId": "a84072d6-386a-4aa3-f8b4-e8ad5e295128",
        "colab": {
          "base_uri": "https://localhost:8080/"
        }
      },
      "source": [
        "a.size"
      ],
      "execution_count": 21,
      "outputs": [
        {
          "output_type": "execute_result",
          "data": {
            "text/plain": [
              "3"
            ]
          },
          "metadata": {},
          "execution_count": 21
        }
      ]
    },
    {
      "cell_type": "markdown",
      "metadata": {
        "id": "ZJlFuRhVALFH"
      },
      "source": [
        "## Multidimensional Array\n",
        "\n",
        "Salah satu fitur menarik dari NumPy adalah dia mampu membuat multidimensional array dan melakukan manipulasi array dengan mudah dan cepat\n",
        "\n",
        "Multidimensional array adalah array yang berbentuk lebih dari 1 dimensi (1D), bisa 2D, 3D, 4D dan seterusnya\n",
        "\n",
        "Cara membuat multidimensional array sama dengan membuat array 1 dimensi, perbedaannya hanya pada parameter yang digunakan\n",
        "\n",
        "Berikut contohnya membuat array 2 dimensi"
      ]
    },
    {
      "cell_type": "code",
      "metadata": {
        "id": "-dSCCgY0__Do",
        "outputId": "6cc0972e-3b88-4434-d87e-56caffdc0d5f",
        "colab": {
          "base_uri": "https://localhost:8080/"
        }
      },
      "source": [
        "arr_2 = np.array([[1,2,3,4,5], [2,4,6,8,10]])\n",
        "arr_2"
      ],
      "execution_count": 22,
      "outputs": [
        {
          "output_type": "execute_result",
          "data": {
            "text/plain": [
              "array([[ 1,  2,  3,  4,  5],\n",
              "       [ 2,  4,  6,  8, 10]])"
            ]
          },
          "metadata": {},
          "execution_count": 22
        }
      ]
    },
    {
      "cell_type": "markdown",
      "metadata": {
        "id": "0mkRdPVIASey"
      },
      "source": [
        "Array diatas adalah berbentuk (2,5) artinya mempunyai 2 baris dan 5 kolom\n",
        "\n",
        "Kita bisa melihat jumlah elemen di setiap dimensi dengan menggunakan shape"
      ]
    },
    {
      "cell_type": "code",
      "metadata": {
        "id": "ku6B8NO0APkB",
        "outputId": "d60c113e-d220-409f-fbdf-9bf57aea3ed6",
        "colab": {
          "base_uri": "https://localhost:8080/"
        }
      },
      "source": [
        "arr_2.shape"
      ],
      "execution_count": 23,
      "outputs": [
        {
          "output_type": "execute_result",
          "data": {
            "text/plain": [
              "(2, 5)"
            ]
          },
          "metadata": {},
          "execution_count": 23
        }
      ]
    },
    {
      "cell_type": "markdown",
      "metadata": {
        "id": "aR2ODR-3AXH4"
      },
      "source": [
        "## Indexing dan Slicing\n",
        "\n",
        "Kita juga dapat melakukan indexing dan slicing terhadap array dengan mudah\n",
        "\n",
        "Indexing dimulai dari 0 dan dimulai dengan notasi bracket “[ ]”\n",
        "\n",
        "Misal kita ingin mencari nilai yang berada di index 0, 2, dan 4"
      ]
    },
    {
      "cell_type": "code",
      "metadata": {
        "id": "nQ0kuh3WAZKw",
        "outputId": "bf9e86f3-1a2a-485d-c361-1a46474764a4",
        "colab": {
          "base_uri": "https://localhost:8080/"
        }
      },
      "source": [
        "arr_3 = np.array([1,2,3,4,5])\n",
        "print(arr_3[0])\n",
        "print(arr_3[2])\n",
        "print(arr_3[4])"
      ],
      "execution_count": 24,
      "outputs": [
        {
          "output_type": "stream",
          "name": "stdout",
          "text": [
            "1\n",
            "3\n",
            "5\n"
          ]
        }
      ]
    },
    {
      "cell_type": "markdown",
      "metadata": {
        "id": "hMLvYxu4AfQu"
      },
      "source": [
        "Untuk mengambil nilai berderet tambahkan “:”"
      ]
    },
    {
      "cell_type": "code",
      "metadata": {
        "id": "JV-fmoN2Act8",
        "outputId": "2c0cf46e-144a-4f62-ff57-04e63db1f1bd",
        "colab": {
          "base_uri": "https://localhost:8080/"
        }
      },
      "source": [
        "arr_3 = np.array([1,2,3,4,5])\n",
        "print(arr_3[0:4])"
      ],
      "execution_count": 25,
      "outputs": [
        {
          "output_type": "stream",
          "name": "stdout",
          "text": [
            "[1 2 3 4]\n"
          ]
        }
      ]
    },
    {
      "cell_type": "code",
      "metadata": {
        "id": "NVI4MTojAiXE",
        "outputId": "4855f692-0784-4be6-d961-54231f281edf",
        "colab": {
          "base_uri": "https://localhost:8080/"
        }
      },
      "source": [
        "arr_4 = np.array([[1,2,3,4,5], [2,4,6,8,10]])\n",
        "print(arr_4)\n",
        "print(arr_4[1,3])"
      ],
      "execution_count": 26,
      "outputs": [
        {
          "output_type": "stream",
          "name": "stdout",
          "text": [
            "[[ 1  2  3  4  5]\n",
            " [ 2  4  6  8 10]]\n",
            "8\n"
          ]
        }
      ]
    },
    {
      "cell_type": "markdown",
      "metadata": {
        "id": "gMqDj_D9An7g"
      },
      "source": [
        "Nilai pada kolom index ke-1 dan baris index ke-1 adalah 4"
      ]
    },
    {
      "cell_type": "markdown",
      "metadata": {
        "id": "onNkqkSWAqIY"
      },
      "source": [
        "## Operasi Aritmatika\n",
        "\n",
        "Kita bisa menggunakan operasi aritmatika seperti penjumlahan, pengurangan, perkalian, pembagian dan perpangkatan\n",
        "\n",
        "Operator yang digunakan adalah  +, -, *, / dan **\n",
        "\n",
        "Berikut contoh operasi aritmatika pada array"
      ]
    },
    {
      "cell_type": "code",
      "metadata": {
        "id": "8KlJfJsjAmZA",
        "outputId": "38ccb835-39ce-4c23-c18e-d9ce8918bbd9",
        "colab": {
          "base_uri": "https://localhost:8080/"
        }
      },
      "source": [
        "arr_A = np.array([1,2,3,4,5])\n",
        "arr_B = np.array([2,2,2,2,2])\n",
        "\n",
        "print(\"Penjumlahan = \", arr_A + arr_B)\n",
        "print(\"Pengurangan = \", arr_A - arr_B)\n",
        "print(\"Perkalian = \", arr_A * arr_B)\n",
        "print(\"Pembagian = \", arr_A / arr_B)\n",
        "print(\"Perpangkatan = \", arr_A ** arr_B)"
      ],
      "execution_count": 27,
      "outputs": [
        {
          "output_type": "stream",
          "name": "stdout",
          "text": [
            "Penjumlahan =  [3 4 5 6 7]\n",
            "Pengurangan =  [-1  0  1  2  3]\n",
            "Perkalian =  [ 2  4  6  8 10]\n",
            "Pembagian =  [0.5 1.  1.5 2.  2.5]\n",
            "Perpangkatan =  [ 1  4  9 16 25]\n"
          ]
        }
      ]
    },
    {
      "cell_type": "markdown",
      "metadata": {
        "id": "YIZbRVn6AwPj"
      },
      "source": [
        "## Operasi Matematika\n",
        "\n",
        "NumPy mempunyai fungsi matematika yang dapat digunakan pada Array\n",
        "\n",
        "Beberapa contoh fungsi statistik antara lain min(), max(), mean(), sum(), std()"
      ]
    },
    {
      "cell_type": "code",
      "metadata": {
        "id": "M6Ie9WhnAt38",
        "outputId": "edec31ee-d29e-49ae-f9e6-301ede5454e3",
        "colab": {
          "base_uri": "https://localhost:8080/"
        }
      },
      "source": [
        "arr_5 = np.array([1,2,3,4,5])\n",
        "print(\"Nilai minimal = \", arr_5.min())\n",
        "print(\"Nilai maksimal = \", arr_5.max())\n",
        "print(\"Nilai rata-rata = \", arr_5.mean())\n",
        "print(\"Total nilai = \", arr_5.sum())\n",
        "print(\"Standar Deviasi = \", arr_5.std())"
      ],
      "execution_count": 28,
      "outputs": [
        {
          "output_type": "stream",
          "name": "stdout",
          "text": [
            "Nilai minimal =  1\n",
            "Nilai maksimal =  5\n",
            "Nilai rata-rata =  3.0\n",
            "Total nilai =  15\n",
            "Standar Deviasi =  1.4142135623730951\n"
          ]
        }
      ]
    },
    {
      "cell_type": "markdown",
      "metadata": {
        "id": "BH2lrDvBA7UY"
      },
      "source": [
        "Ada juga fungsi `argmin()` dan `argmax()` untuk mendapatkan index dari nilai minimum dan maksimum"
      ]
    },
    {
      "cell_type": "code",
      "metadata": {
        "id": "N3jbe1Q6A5RC",
        "outputId": "dc42068a-bcab-42a3-c394-52c08728e5f0",
        "colab": {
          "base_uri": "https://localhost:8080/"
        }
      },
      "source": [
        "print(\"Index nilai niminal = \", arr_5.argmin())\n",
        "print(\"Index nilai maksimal = \", arr_5.argmax())"
      ],
      "execution_count": 29,
      "outputs": [
        {
          "output_type": "stream",
          "name": "stdout",
          "text": [
            "Index nilai niminal =  0\n",
            "Index nilai maksimal =  4\n"
          ]
        }
      ]
    },
    {
      "cell_type": "markdown",
      "metadata": {
        "id": "mUV7gj2RzYqY"
      },
      "source": [
        "## Transformasi Array\n",
        "\n",
        "Kita dapat membuat array baru dari array yang sudah ada melalui berbagai metode transformasi seperti merubah ukuran, menggabungkan dua array atau lebih dan lain sebagainya."
      ]
    },
    {
      "cell_type": "markdown",
      "metadata": {
        "id": "2nqc6MM2zlVM"
      },
      "source": [
        "**array.reshape**\n",
        "\n",
        "Metode ini digunakan untuk merubah shape array dengan jumlah elemen yang tidak berubah."
      ]
    },
    {
      "cell_type": "code",
      "metadata": {
        "id": "oUY61gcOzvY8",
        "outputId": "64621fdd-3cc4-42a4-828a-0c29d44a1df2",
        "colab": {
          "base_uri": "https://localhost:8080/"
        }
      },
      "source": [
        "sebelum = np.array([[1,2,3,4],[5,6,7,8]])\n",
        "print(sebelum)\n",
        "\n",
        "sesudah = sebelum.reshape((8,1))\n",
        "print(sesudah)"
      ],
      "execution_count": 30,
      "outputs": [
        {
          "output_type": "stream",
          "name": "stdout",
          "text": [
            "[[1 2 3 4]\n",
            " [5 6 7 8]]\n",
            "[[1]\n",
            " [2]\n",
            " [3]\n",
            " [4]\n",
            " [5]\n",
            " [6]\n",
            " [7]\n",
            " [8]]\n"
          ]
        }
      ]
    },
    {
      "cell_type": "markdown",
      "metadata": {
        "id": "znH9TFCKz7fE"
      },
      "source": [
        "Perhatikan bahwa array `sebelum` memiliki jumlah elemen 8 (2,4) dan array `sesudah` juga memiliki jumlah elemen 8 (4,2)."
      ]
    },
    {
      "cell_type": "markdown",
      "metadata": {
        "id": "DGr71kVA0YtF"
      },
      "source": [
        "**array.vstack**\n",
        "\n",
        "Metode ini dilakukan untuk menumpuk beberapa array secara vertikal\n"
      ]
    },
    {
      "cell_type": "code",
      "metadata": {
        "id": "revqxbrn0haS",
        "outputId": "88902f5f-56b6-4ea7-9e36-b6f0ca4ed26b",
        "colab": {
          "base_uri": "https://localhost:8080/"
        }
      },
      "source": [
        "v1 = np.array([1,2,3,4])\n",
        "v2 = np.array([5,6,7,8])\n",
        "\n",
        "np.vstack([v1,v2,v1,v2])"
      ],
      "execution_count": 31,
      "outputs": [
        {
          "output_type": "execute_result",
          "data": {
            "text/plain": [
              "array([[1, 2, 3, 4],\n",
              "       [5, 6, 7, 8],\n",
              "       [1, 2, 3, 4],\n",
              "       [5, 6, 7, 8]])"
            ]
          },
          "metadata": {},
          "execution_count": 31
        }
      ]
    },
    {
      "cell_type": "markdown",
      "metadata": {
        "id": "zzD4yZ7q0iu5"
      },
      "source": [
        "**array.hstack**\n",
        "\n",
        "Metode ini dilakukan untuk menumpuk beberapa array secara horizontal."
      ]
    },
    {
      "cell_type": "code",
      "metadata": {
        "id": "VsK-m6wl0pCC",
        "outputId": "b64295c7-cbc2-47a2-949b-3e16f35e420c",
        "colab": {
          "base_uri": "https://localhost:8080/"
        }
      },
      "source": [
        "h1 = np.ones((2,4))\n",
        "h2 = np.zeros((2,2))\n",
        "print(h1)\n",
        "print(h2)\n",
        "\n",
        "print(np.hstack((h1,h2)))"
      ],
      "execution_count": 32,
      "outputs": [
        {
          "output_type": "stream",
          "name": "stdout",
          "text": [
            "[[1. 1. 1. 1.]\n",
            " [1. 1. 1. 1.]]\n",
            "[[0. 0.]\n",
            " [0. 0.]]\n",
            "[[1. 1. 1. 1. 0. 0.]\n",
            " [1. 1. 1. 1. 0. 0.]]\n"
          ]
        }
      ]
    },
    {
      "cell_type": "markdown",
      "metadata": {
        "id": "C6xLmGj27hRQ"
      },
      "source": [
        "# **Representasi Matriks Pada Python**"
      ]
    },
    {
      "cell_type": "markdown",
      "metadata": {
        "id": "rl5CYrqh72gg"
      },
      "source": [
        "Matriks adalah array 2 dimensi khusus yang mempertahankan sifat 2 dimensinnya melalui operasi. Matriks memiliki operator khusus tertentu, seperti perkalian matriks dan pemangkatan matriks."
      ]
    },
    {
      "cell_type": "markdown",
      "metadata": {
        "id": "5VMq8Q44CttX"
      },
      "source": [
        "Berikut adalah beberapa penulisan python di berbagai platform:\n",
        "\n",
        "![alt text](https://drive.google.com/uc?id=1Vo7_qxBo3AGaKDtS1nym0Q-hq1Rxh2JH\n",
        ")\n",
        "\n"
      ]
    },
    {
      "cell_type": "markdown",
      "metadata": {
        "id": "1_pOFiJ6DO33"
      },
      "source": [
        "Berikut contoh penulisan matriks pada python:"
      ]
    },
    {
      "cell_type": "code",
      "metadata": {
        "id": "4Lwoq9kPRElB"
      },
      "source": [
        "import numpy as np"
      ],
      "execution_count": 36,
      "outputs": []
    },
    {
      "cell_type": "code",
      "metadata": {
        "id": "Xyk8tEnXDUJC",
        "outputId": "df15193d-241b-45ef-b80e-6082bdb6cf8f",
        "colab": {
          "base_uri": "https://localhost:8080/"
        }
      },
      "source": [
        "A = np.array([[1, 2], [4, 5]])\n",
        "A"
      ],
      "execution_count": 37,
      "outputs": [
        {
          "output_type": "execute_result",
          "data": {
            "text/plain": [
              "array([[1, 2],\n",
              "       [4, 5]])"
            ]
          },
          "metadata": {},
          "execution_count": 37
        }
      ]
    },
    {
      "cell_type": "code",
      "metadata": {
        "id": "gVHi2PQzEhOF",
        "outputId": "f3d49a80-a3dd-4f51-dc23-63ff83a451cd",
        "colab": {
          "base_uri": "https://localhost:8080/"
        }
      },
      "source": [
        "B = np.array([[1, 2, 3], [4, 5, 6], [7, 8, 9]])\n",
        "B"
      ],
      "execution_count": 35,
      "outputs": [
        {
          "output_type": "execute_result",
          "data": {
            "text/plain": [
              "array([[1, 2, 3],\n",
              "       [4, 5, 6],\n",
              "       [7, 8, 9]])"
            ]
          },
          "metadata": {},
          "execution_count": 35
        }
      ]
    },
    {
      "cell_type": "markdown",
      "metadata": {
        "id": "0d_TWaFN7pD-"
      },
      "source": [
        "# **Operasi Matriks Pada Python**"
      ]
    },
    {
      "cell_type": "code",
      "metadata": {
        "id": "Jd8AIwFJEo9J",
        "outputId": "14e2bf6f-ff5f-4078-a007-4a92494b4b11",
        "colab": {
          "base_uri": "https://localhost:8080/"
        }
      },
      "source": [
        "P = np.array([[1, 2], [4, 5]])\n",
        "P"
      ],
      "execution_count": 38,
      "outputs": [
        {
          "output_type": "execute_result",
          "data": {
            "text/plain": [
              "array([[1, 2],\n",
              "       [4, 5]])"
            ]
          },
          "metadata": {},
          "execution_count": 38
        }
      ]
    },
    {
      "cell_type": "code",
      "metadata": {
        "id": "zjoWermWFDIe",
        "outputId": "735bb329-53a5-4593-be2a-a14b1de09ed2",
        "colab": {
          "base_uri": "https://localhost:8080/"
        }
      },
      "source": [
        "Q = np.array([[7, 8], [9, 10]])\n",
        "Q"
      ],
      "execution_count": 39,
      "outputs": [
        {
          "output_type": "execute_result",
          "data": {
            "text/plain": [
              "array([[ 7,  8],\n",
              "       [ 9, 10]])"
            ]
          },
          "metadata": {},
          "execution_count": 39
        }
      ]
    },
    {
      "cell_type": "code",
      "metadata": {
        "id": "-cK4ygYAFmnO",
        "outputId": "555670a3-c392-4530-a6bf-4adc9b1f1d83",
        "colab": {
          "base_uri": "https://localhost:8080/"
        }
      },
      "source": [
        "a=29\n",
        "a"
      ],
      "execution_count": 40,
      "outputs": [
        {
          "output_type": "execute_result",
          "data": {
            "text/plain": [
              "29"
            ]
          },
          "metadata": {},
          "execution_count": 40
        }
      ]
    },
    {
      "cell_type": "markdown",
      "metadata": {
        "id": "PM-ql5a8FFQW"
      },
      "source": [
        "**Penjumlahan Matriks**"
      ]
    },
    {
      "cell_type": "code",
      "metadata": {
        "id": "OAXVg4Z7FIgO",
        "outputId": "5677b2d7-7467-47ed-8430-5c42832d75b7",
        "colab": {
          "base_uri": "https://localhost:8080/"
        }
      },
      "source": [
        "np.add(P,Q)"
      ],
      "execution_count": 41,
      "outputs": [
        {
          "output_type": "execute_result",
          "data": {
            "text/plain": [
              "array([[ 8, 10],\n",
              "       [13, 15]])"
            ]
          },
          "metadata": {},
          "execution_count": 41
        }
      ]
    },
    {
      "cell_type": "markdown",
      "metadata": {
        "id": "wKyPNa0lFRoy"
      },
      "source": [
        "**Pengurangan Matriks**"
      ]
    },
    {
      "cell_type": "code",
      "metadata": {
        "id": "4yO5Z-DsFVRM",
        "outputId": "5f3c4dfb-206c-402a-8e03-4481a62b8b27",
        "colab": {
          "base_uri": "https://localhost:8080/"
        }
      },
      "source": [
        "np.subtract(P,Q)"
      ],
      "execution_count": 42,
      "outputs": [
        {
          "output_type": "execute_result",
          "data": {
            "text/plain": [
              "array([[-6, -6],\n",
              "       [-5, -5]])"
            ]
          },
          "metadata": {},
          "execution_count": 42
        }
      ]
    },
    {
      "cell_type": "markdown",
      "metadata": {
        "id": "zI3QA0znFgzA"
      },
      "source": [
        "**Perkalian Skalar Matriks**"
      ]
    },
    {
      "cell_type": "code",
      "metadata": {
        "id": "YonggKy8FtgY",
        "outputId": "81cbde13-e310-4175-9437-96068082777d",
        "colab": {
          "base_uri": "https://localhost:8080/"
        }
      },
      "source": [
        "a*P"
      ],
      "execution_count": 43,
      "outputs": [
        {
          "output_type": "execute_result",
          "data": {
            "text/plain": [
              "array([[ 29,  58],\n",
              "       [116, 145]])"
            ]
          },
          "metadata": {},
          "execution_count": 43
        }
      ]
    },
    {
      "cell_type": "markdown",
      "metadata": {
        "id": "d_xAIVF4FaSR"
      },
      "source": [
        "**Perkalian Matriks**"
      ]
    },
    {
      "cell_type": "code",
      "metadata": {
        "id": "iG5oTMt4Fz0B",
        "outputId": "ba7213ef-5912-4007-835b-355b8326c69a",
        "colab": {
          "base_uri": "https://localhost:8080/"
        }
      },
      "source": [
        "np.multiply(P,Q)"
      ],
      "execution_count": 44,
      "outputs": [
        {
          "output_type": "execute_result",
          "data": {
            "text/plain": [
              "array([[ 7, 16],\n",
              "       [36, 50]])"
            ]
          },
          "metadata": {},
          "execution_count": 44
        }
      ]
    },
    {
      "cell_type": "markdown",
      "metadata": {
        "id": "9V9lcBDtF8-R"
      },
      "source": [
        "**Perkalian Titik Matriks (Dot Product)**"
      ]
    },
    {
      "cell_type": "code",
      "metadata": {
        "id": "o12kJct7GLew",
        "outputId": "383b2831-00e1-4a04-f11e-ddb68657c56b",
        "colab": {
          "base_uri": "https://localhost:8080/"
        }
      },
      "source": [
        "np.dot(P,Q)"
      ],
      "execution_count": 45,
      "outputs": [
        {
          "output_type": "execute_result",
          "data": {
            "text/plain": [
              "array([[25, 28],\n",
              "       [73, 82]])"
            ]
          },
          "metadata": {},
          "execution_count": 45
        }
      ]
    },
    {
      "cell_type": "markdown",
      "metadata": {
        "id": "IZSzXLlgG2fn"
      },
      "source": [
        "**Transpose Matriks**"
      ]
    },
    {
      "cell_type": "code",
      "metadata": {
        "id": "HoCDbnfNGx-7",
        "outputId": "0f05cfd7-6b3b-43be-baa7-8a31d0c471fc",
        "colab": {
          "base_uri": "https://localhost:8080/"
        }
      },
      "source": [
        "P.T"
      ],
      "execution_count": 46,
      "outputs": [
        {
          "output_type": "execute_result",
          "data": {
            "text/plain": [
              "array([[1, 4],\n",
              "       [2, 5]])"
            ]
          },
          "metadata": {},
          "execution_count": 46
        }
      ]
    },
    {
      "cell_type": "markdown",
      "metadata": {
        "id": "yKcYKwLAGoxH"
      },
      "source": [
        "**Operasi Fungsi Pada Setiap Elemen Matriks - Akar Kuadrat**"
      ]
    },
    {
      "cell_type": "code",
      "metadata": {
        "id": "IGXz3a5sGr6i",
        "outputId": "c9cde55f-6680-4134-b0e0-678e94bb28b1",
        "colab": {
          "base_uri": "https://localhost:8080/"
        }
      },
      "source": [
        "np.sqrt(P)"
      ],
      "execution_count": 47,
      "outputs": [
        {
          "output_type": "execute_result",
          "data": {
            "text/plain": [
              "array([[1.        , 1.41421356],\n",
              "       [2.        , 2.23606798]])"
            ]
          },
          "metadata": {},
          "execution_count": 47
        }
      ]
    },
    {
      "cell_type": "markdown",
      "metadata": {
        "id": "gPr8y8B5HhUb"
      },
      "source": [
        "**Menjumlahkan Semua Elemen Kolom Sebuah Matriks**"
      ]
    },
    {
      "cell_type": "code",
      "metadata": {
        "id": "DIx9Jr4VIYcK",
        "outputId": "f7e9020a-ca9e-4314-df9b-1cb4b4e74bf5",
        "colab": {
          "base_uri": "https://localhost:8080/"
        }
      },
      "source": [
        "Q"
      ],
      "execution_count": 48,
      "outputs": [
        {
          "output_type": "execute_result",
          "data": {
            "text/plain": [
              "array([[ 7,  8],\n",
              "       [ 9, 10]])"
            ]
          },
          "metadata": {},
          "execution_count": 48
        }
      ]
    },
    {
      "cell_type": "code",
      "metadata": {
        "id": "XLmOIXsnHlkc",
        "outputId": "945c308b-08f7-497c-d8a4-2ff07dd21121",
        "colab": {
          "base_uri": "https://localhost:8080/"
        }
      },
      "source": [
        "np.sum(Q,axis=1)"
      ],
      "execution_count": 49,
      "outputs": [
        {
          "output_type": "execute_result",
          "data": {
            "text/plain": [
              "array([15, 19])"
            ]
          },
          "metadata": {},
          "execution_count": 49
        }
      ]
    },
    {
      "cell_type": "markdown",
      "metadata": {
        "id": "XSEwRsazHtDE"
      },
      "source": [
        "**Menjumlahkan Semua Elemen Baris Sebuah Matriks**"
      ]
    },
    {
      "cell_type": "code",
      "metadata": {
        "id": "LjtoSa17H0YK",
        "outputId": "150257ea-8c60-40e3-9ae5-515c95bec4d3",
        "colab": {
          "base_uri": "https://localhost:8080/"
        }
      },
      "source": [
        "np.sum(Q,axis=0)"
      ],
      "execution_count": 50,
      "outputs": [
        {
          "output_type": "execute_result",
          "data": {
            "text/plain": [
              "array([16, 18])"
            ]
          },
          "metadata": {},
          "execution_count": 50
        }
      ]
    },
    {
      "cell_type": "markdown",
      "metadata": {
        "id": "pUlvf2BN7v1X"
      },
      "source": [
        "# **Aljabar Linear Pada Python**"
      ]
    },
    {
      "cell_type": "markdown",
      "metadata": {
        "id": "A3NotyTtHUnU"
      },
      "source": [
        "Dalam modul numpy juga disediakan fungsi-fungsi Aljabar Linear untuk matriks.\n",
        "Beberapa konsep Aljabar Linear yang akan ditunjukkan di modul ini adalah\n",
        "* Determinan\n",
        "* Inverse\n",
        "* Nilai eigen\n",
        "* Vector eigen\n",
        "* Matriks identitas\n",
        "* Matriks satuan\n",
        "* Matriks nol\n",
        "* Matriks segitiga L dan U\n",
        "* Dekomposisi L U matriks"
      ]
    },
    {
      "cell_type": "code",
      "metadata": {
        "id": "KihkCBkq68PQ",
        "outputId": "6bc46d65-d1e6-420e-be87-cd5fab4d58d4",
        "colab": {
          "base_uri": "https://localhost:8080/"
        }
      },
      "source": [
        "A = np.array([[2,3,4],[7, 8, 9],[10, 7, 8]])\n",
        "A"
      ],
      "execution_count": 51,
      "outputs": [
        {
          "output_type": "execute_result",
          "data": {
            "text/plain": [
              "array([[ 2,  3,  4],\n",
              "       [ 7,  8,  9],\n",
              "       [10,  7,  8]])"
            ]
          },
          "metadata": {},
          "execution_count": 51
        }
      ]
    },
    {
      "cell_type": "code",
      "metadata": {
        "id": "Neo8JE_WcL6d",
        "outputId": "d2d7bd20-6b32-465d-b600-508fd8990a52",
        "colab": {
          "base_uri": "https://localhost:8080/"
        }
      },
      "source": [
        "B = np.array([[5,7,4],[6, 8, 9],[1, 2, 6]])\n",
        "B"
      ],
      "execution_count": 52,
      "outputs": [
        {
          "output_type": "execute_result",
          "data": {
            "text/plain": [
              "array([[5, 7, 4],\n",
              "       [6, 8, 9],\n",
              "       [1, 2, 6]])"
            ]
          },
          "metadata": {},
          "execution_count": 52
        }
      ]
    },
    {
      "cell_type": "markdown",
      "metadata": {
        "id": "RIr84ePpcULq"
      },
      "source": [
        "**Determinan**\n"
      ]
    },
    {
      "cell_type": "code",
      "metadata": {
        "id": "iGngH0NmcSXp",
        "outputId": "38d37aca-9721-491e-96a7-a9d67c7e29b6",
        "colab": {
          "base_uri": "https://localhost:8080/"
        }
      },
      "source": [
        "np.linalg.det(A)"
      ],
      "execution_count": 53,
      "outputs": [
        {
          "output_type": "execute_result",
          "data": {
            "text/plain": [
              "-20.000000000000007"
            ]
          },
          "metadata": {},
          "execution_count": 53
        }
      ]
    },
    {
      "cell_type": "markdown",
      "metadata": {
        "id": "y2L2FOe2dYEs"
      },
      "source": [
        "**Inverse Matriks**"
      ]
    },
    {
      "cell_type": "code",
      "metadata": {
        "id": "jDrWnut9dbUb",
        "outputId": "da07c8a2-e239-41d3-a371-5ac72ca122df",
        "colab": {
          "base_uri": "https://localhost:8080/"
        }
      },
      "source": [
        "np.linalg.inv(A)"
      ],
      "execution_count": 54,
      "outputs": [
        {
          "output_type": "execute_result",
          "data": {
            "text/plain": [
              "array([[-0.05, -0.2 ,  0.25],\n",
              "       [-1.7 ,  1.2 , -0.5 ],\n",
              "       [ 1.55, -0.8 ,  0.25]])"
            ]
          },
          "metadata": {},
          "execution_count": 54
        }
      ]
    },
    {
      "cell_type": "markdown",
      "metadata": {
        "id": "3X3b9_DTeH61"
      },
      "source": [
        "**Nilai Eigen dan Vector Eigen**"
      ]
    },
    {
      "cell_type": "code",
      "metadata": {
        "id": "rtIHiI-hdEP7",
        "outputId": "ffacc68e-0a4b-4c26-bbb2-1d45aa0d60a9",
        "colab": {
          "base_uri": "https://localhost:8080/"
        }
      },
      "source": [
        "eig, vec_eig = np.linalg.eig(A)\n",
        "print('Nilai eigen matriks A:')\n",
        "print(eig)\n",
        "print('Vektor eigen matriks A:')\n",
        "print(vec_eig)"
      ],
      "execution_count": 55,
      "outputs": [
        {
          "output_type": "stream",
          "name": "stdout",
          "text": [
            "Nilai eigen matriks A:\n",
            "[19.39079317 -1.9262474   0.53545423]\n",
            "Vektor eigen matriks A:\n",
            "[[-0.27295093 -0.54761756  0.15754422]\n",
            " [-0.6940728  -0.31621014 -0.8168342 ]\n",
            " [-0.66615369  0.7746781   0.55494297]]\n"
          ]
        }
      ]
    },
    {
      "cell_type": "markdown",
      "metadata": {
        "id": "rPU_mawLeN-P"
      },
      "source": [
        "**Matriks Identitas**"
      ]
    },
    {
      "cell_type": "code",
      "metadata": {
        "id": "nf5RetybK8Sd",
        "outputId": "d26dfbcf-e9ad-4804-84e3-2dec28355eee",
        "colab": {
          "base_uri": "https://localhost:8080/"
        }
      },
      "source": [
        "Identitas=np.identity(5)\n",
        "print(Identitas)"
      ],
      "execution_count": 56,
      "outputs": [
        {
          "output_type": "stream",
          "name": "stdout",
          "text": [
            "[[1. 0. 0. 0. 0.]\n",
            " [0. 1. 0. 0. 0.]\n",
            " [0. 0. 1. 0. 0.]\n",
            " [0. 0. 0. 1. 0.]\n",
            " [0. 0. 0. 0. 1.]]\n"
          ]
        }
      ]
    },
    {
      "cell_type": "code",
      "metadata": {
        "id": "CsCXNEqvJOnC",
        "outputId": "c0ddb0be-2d6a-488a-f4c8-cb161fc9d47f",
        "colab": {
          "base_uri": "https://localhost:8080/"
        }
      },
      "source": [
        "Identitas[:,3]"
      ],
      "execution_count": 57,
      "outputs": [
        {
          "output_type": "execute_result",
          "data": {
            "text/plain": [
              "array([0., 0., 0., 1., 0.])"
            ]
          },
          "metadata": {},
          "execution_count": 57
        }
      ]
    },
    {
      "cell_type": "markdown",
      "metadata": {
        "id": "N1za6XhfLQuW"
      },
      "source": [
        "**Matriks Satuan**"
      ]
    },
    {
      "cell_type": "code",
      "metadata": {
        "id": "akDgElRqeRur",
        "outputId": "aebe87da-6ed7-4cd1-a5ec-dd9a8ba6ad39",
        "colab": {
          "base_uri": "https://localhost:8080/"
        }
      },
      "source": [
        "Satuan=np.ones((2,3))\n",
        "Satuan"
      ],
      "execution_count": 58,
      "outputs": [
        {
          "output_type": "execute_result",
          "data": {
            "text/plain": [
              "array([[1., 1., 1.],\n",
              "       [1., 1., 1.]])"
            ]
          },
          "metadata": {},
          "execution_count": 58
        }
      ]
    },
    {
      "cell_type": "markdown",
      "metadata": {
        "id": "TemEJtdGLT_6"
      },
      "source": [
        "**Matriks Nol**"
      ]
    },
    {
      "cell_type": "code",
      "metadata": {
        "id": "I3z4M7VjLXG7",
        "outputId": "64ad6ec6-1ba4-403b-b760-b16a3d299b6f",
        "colab": {
          "base_uri": "https://localhost:8080/"
        }
      },
      "source": [
        "MatriksNol=np.zeros(10)\n",
        "MatriksNol"
      ],
      "execution_count": 59,
      "outputs": [
        {
          "output_type": "execute_result",
          "data": {
            "text/plain": [
              "array([0., 0., 0., 0., 0., 0., 0., 0., 0., 0.])"
            ]
          },
          "metadata": {},
          "execution_count": 59
        }
      ]
    },
    {
      "cell_type": "markdown",
      "metadata": {
        "id": "SkbcAlZMLpnt"
      },
      "source": [
        "**Matriks Segitiga Atas dan Bawah**"
      ]
    },
    {
      "cell_type": "code",
      "metadata": {
        "id": "g8j6_lblLtGh",
        "outputId": "dd0026d6-a6aa-4278-c321-09033edda2e1",
        "colab": {
          "base_uri": "https://localhost:8080/"
        }
      },
      "source": [
        "M=np.array([[1,2,3],[4,5,6],[7,8,9]])\n",
        "M"
      ],
      "execution_count": 60,
      "outputs": [
        {
          "output_type": "execute_result",
          "data": {
            "text/plain": [
              "array([[1, 2, 3],\n",
              "       [4, 5, 6],\n",
              "       [7, 8, 9]])"
            ]
          },
          "metadata": {},
          "execution_count": 60
        }
      ]
    },
    {
      "cell_type": "code",
      "metadata": {
        "id": "Z2v_amfdJnfs",
        "outputId": "c43aafa9-e5c0-4e83-dd01-4fe2ee202cb8",
        "colab": {
          "base_uri": "https://localhost:8080/"
        }
      },
      "source": [
        "Lower=np.tril(M, -1)\n",
        "Lower"
      ],
      "execution_count": 61,
      "outputs": [
        {
          "output_type": "execute_result",
          "data": {
            "text/plain": [
              "array([[0, 0, 0],\n",
              "       [4, 0, 0],\n",
              "       [7, 8, 0]])"
            ]
          },
          "metadata": {},
          "execution_count": 61
        }
      ]
    },
    {
      "cell_type": "code",
      "metadata": {
        "id": "H7VOyQu9LyIx",
        "outputId": "201b53a8-c566-4027-b632-e0fa3afc3b8b",
        "colab": {
          "base_uri": "https://localhost:8080/"
        }
      },
      "source": [
        "Upper=np.triu(M, 1)\n",
        "Upper"
      ],
      "execution_count": 62,
      "outputs": [
        {
          "output_type": "execute_result",
          "data": {
            "text/plain": [
              "array([[0, 2, 3],\n",
              "       [0, 0, 6],\n",
              "       [0, 0, 0]])"
            ]
          },
          "metadata": {},
          "execution_count": 62
        }
      ]
    },
    {
      "cell_type": "markdown",
      "metadata": {
        "id": "VZf6Qt8yQHZs"
      },
      "source": [
        "**Matriks Dekomposisi LU**"
      ]
    },
    {
      "cell_type": "code",
      "metadata": {
        "id": "0R3uE3MLQFQq",
        "outputId": "7419f86b-02cd-4ad2-e462-184139956273",
        "colab": {
          "base_uri": "https://localhost:8080/"
        }
      },
      "source": [
        "import numpy as np\n",
        "import scipy.linalg as la\n",
        "np.set_printoptions(suppress=True)\n",
        "\n",
        "P, L, U = la.lu(A)\n",
        "print(P)\n",
        "\n",
        "print(L)\n",
        "\n",
        "print(U)"
      ],
      "execution_count": 63,
      "outputs": [
        {
          "output_type": "stream",
          "name": "stdout",
          "text": [
            "[[0. 0. 1.]\n",
            " [0. 1. 0.]\n",
            " [1. 0. 0.]]\n",
            "[[1.         0.         0.        ]\n",
            " [0.7        1.         0.        ]\n",
            " [0.2        0.51612903 1.        ]]\n",
            "[[10.          7.          8.        ]\n",
            " [ 0.          3.1         3.4       ]\n",
            " [ 0.          0.          0.64516129]]\n"
          ]
        }
      ]
    },
    {
      "cell_type": "markdown",
      "metadata": {
        "id": "Xr2lxk38N0Dq"
      },
      "source": [
        "# **Membangun Matriks Menggunakan Perulangan**"
      ]
    },
    {
      "cell_type": "code",
      "metadata": {
        "id": "rP1YAVs_f4zp",
        "outputId": "06fc4dc7-0b39-49f4-e572-5ce84d101d7b",
        "colab": {
          "base_uri": "https://localhost:8080/"
        }
      },
      "source": [
        "C = np.arange(0,10,1)\n",
        "C"
      ],
      "execution_count": 64,
      "outputs": [
        {
          "output_type": "execute_result",
          "data": {
            "text/plain": [
              "array([0, 1, 2, 3, 4, 5, 6, 7, 8, 9])"
            ]
          },
          "metadata": {},
          "execution_count": 64
        }
      ]
    },
    {
      "cell_type": "code",
      "metadata": {
        "id": "hhobPmFhKC1D",
        "outputId": "196828b9-c239-4369-ebf4-a6445b46fd87",
        "colab": {
          "base_uri": "https://localhost:8080/"
        }
      },
      "source": [
        "C**2"
      ],
      "execution_count": 65,
      "outputs": [
        {
          "output_type": "execute_result",
          "data": {
            "text/plain": [
              "array([ 0,  1,  4,  9, 16, 25, 36, 49, 64, 81])"
            ]
          },
          "metadata": {},
          "execution_count": 65
        }
      ]
    },
    {
      "cell_type": "code",
      "metadata": {
        "id": "MO7CDnEpJ_SB",
        "outputId": "8f817cb5-1074-4a8f-f98e-aa7263bb38fb",
        "colab": {
          "base_uri": "https://localhost:8080/"
        }
      },
      "source": [
        "L = []\n",
        "for i in C:\n",
        "  L.append(i+1)\n",
        "L"
      ],
      "execution_count": 66,
      "outputs": [
        {
          "output_type": "execute_result",
          "data": {
            "text/plain": [
              "[1, 2, 3, 4, 5, 6, 7, 8, 9, 10]"
            ]
          },
          "metadata": {},
          "execution_count": 66
        }
      ]
    },
    {
      "cell_type": "code",
      "metadata": {
        "id": "LTHoQPgijfR9",
        "outputId": "48a78d17-e9fe-4f74-f19b-ff2d5fd9d2f8",
        "colab": {
          "base_uri": "https://localhost:8080/"
        }
      },
      "source": [
        "A=np.zeros([3,4])\n",
        "baris, kolom = np.shape(A)\n",
        "print(baris)\n",
        "print(kolom)\n",
        "print(A)\n",
        "arr=[]\n",
        "for i in range(baris):\n",
        "    arr.append([])\n",
        "    print(arr)\n",
        "    for j in range(kolom):\n",
        "        arr[i].append((i+j)*2)\n",
        "        print(arr)\n",
        "print(np.array(arr))"
      ],
      "execution_count": 67,
      "outputs": [
        {
          "output_type": "stream",
          "name": "stdout",
          "text": [
            "3\n",
            "4\n",
            "[[0. 0. 0. 0.]\n",
            " [0. 0. 0. 0.]\n",
            " [0. 0. 0. 0.]]\n",
            "[[]]\n",
            "[[0]]\n",
            "[[0, 2]]\n",
            "[[0, 2, 4]]\n",
            "[[0, 2, 4, 6]]\n",
            "[[0, 2, 4, 6], []]\n",
            "[[0, 2, 4, 6], [2]]\n",
            "[[0, 2, 4, 6], [2, 4]]\n",
            "[[0, 2, 4, 6], [2, 4, 6]]\n",
            "[[0, 2, 4, 6], [2, 4, 6, 8]]\n",
            "[[0, 2, 4, 6], [2, 4, 6, 8], []]\n",
            "[[0, 2, 4, 6], [2, 4, 6, 8], [4]]\n",
            "[[0, 2, 4, 6], [2, 4, 6, 8], [4, 6]]\n",
            "[[0, 2, 4, 6], [2, 4, 6, 8], [4, 6, 8]]\n",
            "[[0, 2, 4, 6], [2, 4, 6, 8], [4, 6, 8, 10]]\n",
            "[[ 0  2  4  6]\n",
            " [ 2  4  6  8]\n",
            " [ 4  6  8 10]]\n"
          ]
        }
      ]
    },
    {
      "cell_type": "markdown",
      "metadata": {
        "id": "1_eIuvxY08o1"
      },
      "source": [
        "# Latihan\n",
        "\n",
        "1. Buatlah array matriks identitas dengan ukuran 20x20!\n"
      ]
    },
    {
      "cell_type": "code",
      "metadata": {
        "id": "gypS5WgP1MqZ",
        "outputId": "008b5be4-324b-4bbc-8b9b-73fea9634d1f",
        "colab": {
          "base_uri": "https://localhost:8080/"
        }
      },
      "source": [
        "print(np.identity(20))"
      ],
      "execution_count": 68,
      "outputs": [
        {
          "output_type": "stream",
          "name": "stdout",
          "text": [
            "[[1. 0. 0. 0. 0. 0. 0. 0. 0. 0. 0. 0. 0. 0. 0. 0. 0. 0. 0. 0.]\n",
            " [0. 1. 0. 0. 0. 0. 0. 0. 0. 0. 0. 0. 0. 0. 0. 0. 0. 0. 0. 0.]\n",
            " [0. 0. 1. 0. 0. 0. 0. 0. 0. 0. 0. 0. 0. 0. 0. 0. 0. 0. 0. 0.]\n",
            " [0. 0. 0. 1. 0. 0. 0. 0. 0. 0. 0. 0. 0. 0. 0. 0. 0. 0. 0. 0.]\n",
            " [0. 0. 0. 0. 1. 0. 0. 0. 0. 0. 0. 0. 0. 0. 0. 0. 0. 0. 0. 0.]\n",
            " [0. 0. 0. 0. 0. 1. 0. 0. 0. 0. 0. 0. 0. 0. 0. 0. 0. 0. 0. 0.]\n",
            " [0. 0. 0. 0. 0. 0. 1. 0. 0. 0. 0. 0. 0. 0. 0. 0. 0. 0. 0. 0.]\n",
            " [0. 0. 0. 0. 0. 0. 0. 1. 0. 0. 0. 0. 0. 0. 0. 0. 0. 0. 0. 0.]\n",
            " [0. 0. 0. 0. 0. 0. 0. 0. 1. 0. 0. 0. 0. 0. 0. 0. 0. 0. 0. 0.]\n",
            " [0. 0. 0. 0. 0. 0. 0. 0. 0. 1. 0. 0. 0. 0. 0. 0. 0. 0. 0. 0.]\n",
            " [0. 0. 0. 0. 0. 0. 0. 0. 0. 0. 1. 0. 0. 0. 0. 0. 0. 0. 0. 0.]\n",
            " [0. 0. 0. 0. 0. 0. 0. 0. 0. 0. 0. 1. 0. 0. 0. 0. 0. 0. 0. 0.]\n",
            " [0. 0. 0. 0. 0. 0. 0. 0. 0. 0. 0. 0. 1. 0. 0. 0. 0. 0. 0. 0.]\n",
            " [0. 0. 0. 0. 0. 0. 0. 0. 0. 0. 0. 0. 0. 1. 0. 0. 0. 0. 0. 0.]\n",
            " [0. 0. 0. 0. 0. 0. 0. 0. 0. 0. 0. 0. 0. 0. 1. 0. 0. 0. 0. 0.]\n",
            " [0. 0. 0. 0. 0. 0. 0. 0. 0. 0. 0. 0. 0. 0. 0. 1. 0. 0. 0. 0.]\n",
            " [0. 0. 0. 0. 0. 0. 0. 0. 0. 0. 0. 0. 0. 0. 0. 0. 1. 0. 0. 0.]\n",
            " [0. 0. 0. 0. 0. 0. 0. 0. 0. 0. 0. 0. 0. 0. 0. 0. 0. 1. 0. 0.]\n",
            " [0. 0. 0. 0. 0. 0. 0. 0. 0. 0. 0. 0. 0. 0. 0. 0. 0. 0. 1. 0.]\n",
            " [0. 0. 0. 0. 0. 0. 0. 0. 0. 0. 0. 0. 0. 0. 0. 0. 0. 0. 0. 1.]]\n"
          ]
        }
      ]
    },
    {
      "cell_type": "markdown",
      "metadata": {
        "id": "jTZ5fdyP1NcS"
      },
      "source": [
        "2. Buatlah array matriks dengan ukuran sesuai dengan array `c` dan dengan elemennya adalah bilangan 112!\n",
        "\n",
        "  ```python\n",
        "  c=[20, 60, 50, 70, 90, 78, 46, 56]\n",
        "  ```"
      ]
    },
    {
      "cell_type": "code",
      "metadata": {
        "id": "fkm8mLmw1d8A",
        "outputId": "cb65f80f-6a9e-452e-c84e-7df511310b20",
        "colab": {
          "base_uri": "https://localhost:8080/"
        }
      },
      "source": [
        "c = np.array([20, 60, 50, 70, 90, 78, 46, 56])\n",
        "print(np.full_like(c,112))"
      ],
      "execution_count": 70,
      "outputs": [
        {
          "output_type": "stream",
          "name": "stdout",
          "text": [
            "[112 112 112 112 112 112 112 112]\n"
          ]
        }
      ]
    }
  ]
}