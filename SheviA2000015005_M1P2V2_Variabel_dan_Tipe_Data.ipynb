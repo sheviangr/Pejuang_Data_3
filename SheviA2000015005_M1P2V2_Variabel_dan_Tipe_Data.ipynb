{
  "nbformat": 4,
  "nbformat_minor": 0,
  "metadata": {
    "colab": {
      "name": "SheviA2000015005 - M1P2V2_Variabel_dan_Tipe_Data.ipynb",
      "provenance": []
    },
    "kernelspec": {
      "name": "python3",
      "display_name": "Python 3"
    },
    "language_info": {
      "name": "python"
    }
  },
  "cells": [
    {
      "cell_type": "markdown",
      "metadata": {
        "id": "CE_MO1d3-t9b"
      },
      "source": [
        "#Variabel & Tipe Data"
      ]
    },
    {
      "cell_type": "markdown",
      "metadata": {
        "id": "O-2o1a0J-8FC"
      },
      "source": [
        "##Variabel"
      ]
    },
    {
      "cell_type": "code",
      "metadata": {
        "id": "EmVwVcGJ-g7T"
      },
      "source": [
        "#membuat variabel \n",
        "kalimat = 'ini adalah variabel'\n",
        "bilangan1 = 4\n",
        "bilangan2 = 2.5\n",
        "bilangan3 = True\n",
        "bilangan4 = 1j + 4"
      ],
      "execution_count": 32,
      "outputs": []
    },
    {
      "cell_type": "code",
      "metadata": {
        "colab": {
          "base_uri": "https://localhost:8080/"
        },
        "id": "T3FQ0wQc_PmO",
        "outputId": "2f936598-3220-45fb-ee6d-86751aa19c84"
      },
      "source": [
        "#menampilkan variabel\n",
        "print(kalimat)\n",
        "print(bilangan1)\n",
        "print(bilangan2)"
      ],
      "execution_count": 33,
      "outputs": [
        {
          "output_type": "stream",
          "name": "stdout",
          "text": [
            "ini adalah variabel\n",
            "4\n",
            "2.5\n"
          ]
        }
      ]
    },
    {
      "cell_type": "markdown",
      "metadata": {
        "id": "RWv4asSA_elW"
      },
      "source": [
        "###Latihan 1"
      ]
    },
    {
      "cell_type": "code",
      "metadata": {
        "id": "v4VZzlP9_hQl"
      },
      "source": [
        "#membuat variabel \n",
        "tipedata1 = 8\n",
        "tipedata2 = 6.2\n",
        "tipedata3 = 'hello world'\n",
        "tipedata4 = False\n",
        "tipedata5 = 9j + 3"
      ],
      "execution_count": 34,
      "outputs": []
    },
    {
      "cell_type": "code",
      "metadata": {
        "colab": {
          "base_uri": "https://localhost:8080/"
        },
        "id": "_m8r3j9m_xjy",
        "outputId": "0a358773-df3f-4a17-a3c9-66b3db515dce"
      },
      "source": [
        "#menampilkan variabel\n",
        "print(tipedata1)\n",
        "print(tipedata2)\n",
        "print(tipedata3)"
      ],
      "execution_count": 35,
      "outputs": [
        {
          "output_type": "stream",
          "name": "stdout",
          "text": [
            "8\n",
            "6.2\n",
            "hello world\n"
          ]
        }
      ]
    },
    {
      "cell_type": "markdown",
      "metadata": {
        "id": "NOOicttR_3qJ"
      },
      "source": [
        "##Tipe Data"
      ]
    },
    {
      "cell_type": "markdown",
      "metadata": {
        "id": "KK0fFNGeAC1c"
      },
      "source": [
        "1. Integer atau bilangan bulat\n",
        "2. Float atau bilangan desimal\n",
        "3. String atau kalimat\n",
        "4. Boolean yang terdiri dari True dan False\n",
        "5. Complex yang merupakan bilangan kompleks"
      ]
    },
    {
      "cell_type": "code",
      "metadata": {
        "colab": {
          "base_uri": "https://localhost:8080/"
        },
        "id": "HtKCgUCPAWq3",
        "outputId": "dfa03c71-2d77-451b-9491-bb7187c38519"
      },
      "source": [
        "#menampilkan tipe data\n",
        "print(type(kalimat))\n",
        "print(type(bilangan1))\n",
        "print(type(bilangan2))\n",
        "print(type(bilangan3))\n",
        "print(type(bilangan4))"
      ],
      "execution_count": 36,
      "outputs": [
        {
          "output_type": "stream",
          "name": "stdout",
          "text": [
            "<class 'str'>\n",
            "<class 'int'>\n",
            "<class 'float'>\n",
            "<class 'bool'>\n",
            "<class 'complex'>\n"
          ]
        }
      ]
    },
    {
      "cell_type": "markdown",
      "metadata": {
        "id": "KRE_cmQJBS_g"
      },
      "source": [
        "###Latihan 2"
      ]
    },
    {
      "cell_type": "code",
      "metadata": {
        "colab": {
          "base_uri": "https://localhost:8080/"
        },
        "id": "As5CZ30fBV66",
        "outputId": "09c96ddd-294d-4d5b-c7c7-9a34adf93550"
      },
      "source": [
        "print(type(tipedata1))\n",
        "print(type(tipedata2))\n",
        "print(type(tipedata3))\n",
        "print(type(tipedata4))\n",
        "print(type(tipedata5))"
      ],
      "execution_count": 37,
      "outputs": [
        {
          "output_type": "stream",
          "name": "stdout",
          "text": [
            "<class 'int'>\n",
            "<class 'float'>\n",
            "<class 'str'>\n",
            "<class 'bool'>\n",
            "<class 'complex'>\n"
          ]
        }
      ]
    },
    {
      "cell_type": "markdown",
      "metadata": {
        "id": "2J6_LTASByRZ"
      },
      "source": [
        "##Konversi Tipe Data"
      ]
    },
    {
      "cell_type": "markdown",
      "metadata": {
        "id": "5VGWrqo8B1mu"
      },
      "source": [
        "Syntax Konversi tipe data\n",
        "1. Integer = int()\n",
        "2. Float = float()\n",
        "3. String = str()\n",
        "4. Boolean = bool()\n",
        "5. Complex = complex()"
      ]
    },
    {
      "cell_type": "code",
      "metadata": {
        "colab": {
          "base_uri": "https://localhost:8080/"
        },
        "id": "fiFRlqAiCOSr",
        "outputId": "d2efb82e-7b17-4f74-9c06-67d6e88607b1"
      },
      "source": [
        "#konversi tipe data integer\n",
        "print(int(bilangan2))\n",
        "print(int(bilangan3))"
      ],
      "execution_count": 38,
      "outputs": [
        {
          "output_type": "stream",
          "name": "stdout",
          "text": [
            "2\n",
            "1\n"
          ]
        }
      ]
    },
    {
      "cell_type": "code",
      "metadata": {
        "colab": {
          "base_uri": "https://localhost:8080/"
        },
        "id": "-p2h335KEDa-",
        "outputId": "9c6845a9-f93a-4ae3-906e-181752bfcee6"
      },
      "source": [
        "#konversi tipe data float\n",
        "print(float(bilangan1))\n",
        "print(float(bilangan3))"
      ],
      "execution_count": 39,
      "outputs": [
        {
          "output_type": "stream",
          "name": "stdout",
          "text": [
            "4.0\n",
            "1.0\n"
          ]
        }
      ]
    },
    {
      "cell_type": "code",
      "metadata": {
        "colab": {
          "base_uri": "https://localhost:8080/"
        },
        "id": "B_IJbWeMEOr0",
        "outputId": "c1cbd5cf-ccc0-4b09-85ff-ed810447bd74"
      },
      "source": [
        "#konversi tipe data string\n",
        "print(str(bilangan1))\n",
        "print(str(bilangan2))\n",
        "print(str(bilangan3))"
      ],
      "execution_count": 40,
      "outputs": [
        {
          "output_type": "stream",
          "name": "stdout",
          "text": [
            "4\n",
            "2.5\n",
            "True\n"
          ]
        }
      ]
    },
    {
      "cell_type": "code",
      "metadata": {
        "colab": {
          "base_uri": "https://localhost:8080/"
        },
        "id": "-4uTd_tfFG-c",
        "outputId": "62a2035c-1e6b-4c9b-e3dc-39f6fa4da248"
      },
      "source": [
        "#konversi tipe data bool\n",
        "print(bool(bilangan1))\n",
        "print(bool(bilangan2))"
      ],
      "execution_count": 41,
      "outputs": [
        {
          "output_type": "stream",
          "name": "stdout",
          "text": [
            "True\n",
            "True\n"
          ]
        }
      ]
    },
    {
      "cell_type": "code",
      "metadata": {
        "colab": {
          "base_uri": "https://localhost:8080/"
        },
        "id": "vVeQShv-FQ0k",
        "outputId": "848e8ba3-e524-40fe-e1c6-767f9d134306"
      },
      "source": [
        "#konversi tipe data complex\n",
        "print(complex(bilangan1))\n",
        "print(complex(bilangan2))\n",
        "print(complex(bilangan3))"
      ],
      "execution_count": 42,
      "outputs": [
        {
          "output_type": "stream",
          "name": "stdout",
          "text": [
            "(4+0j)\n",
            "(2.5+0j)\n",
            "(1+0j)\n"
          ]
        }
      ]
    },
    {
      "cell_type": "markdown",
      "metadata": {
        "id": "s8oWqTr2FhKG"
      },
      "source": [
        "###Latihan 3"
      ]
    },
    {
      "cell_type": "code",
      "metadata": {
        "colab": {
          "base_uri": "https://localhost:8080/"
        },
        "id": "ES0S6z_9Fjh_",
        "outputId": "9010f669-59ea-4f13-b1c2-d6e1d19e0a7a"
      },
      "source": [
        "#konversi tipe data integer\n",
        "print(int(tipedata2))\n",
        "print(int(tipedata4))"
      ],
      "execution_count": 43,
      "outputs": [
        {
          "output_type": "stream",
          "name": "stdout",
          "text": [
            "6\n",
            "0\n"
          ]
        }
      ]
    },
    {
      "cell_type": "code",
      "metadata": {
        "colab": {
          "base_uri": "https://localhost:8080/"
        },
        "id": "9QcOBfL1F1M1",
        "outputId": "f02eb769-5952-4072-8b2b-e8aaef6b3c08"
      },
      "source": [
        "#konversi tipe data float\n",
        "print(float(tipedata1))\n",
        "print(float(tipedata4))"
      ],
      "execution_count": 44,
      "outputs": [
        {
          "output_type": "stream",
          "name": "stdout",
          "text": [
            "8.0\n",
            "0.0\n"
          ]
        }
      ]
    },
    {
      "cell_type": "code",
      "metadata": {
        "colab": {
          "base_uri": "https://localhost:8080/"
        },
        "id": "P0pp9rV1GItw",
        "outputId": "d1b9bd24-2cde-489d-ec4d-d8bf780890ae"
      },
      "source": [
        "#konversi tipe data string\n",
        "print(str(tipedata1))\n",
        "print(str(tipedata2))\n",
        "print(str(tipedata4))"
      ],
      "execution_count": 45,
      "outputs": [
        {
          "output_type": "stream",
          "name": "stdout",
          "text": [
            "8\n",
            "6.2\n",
            "False\n"
          ]
        }
      ]
    },
    {
      "cell_type": "code",
      "metadata": {
        "colab": {
          "base_uri": "https://localhost:8080/"
        },
        "id": "k1A0l_g3GSj2",
        "outputId": "37d870ef-f673-4145-c72f-cfc8df4856aa"
      },
      "source": [
        "#konversi tipe data bool\n",
        "print(bool(tipedata1))\n",
        "print(bool(tipedata2))"
      ],
      "execution_count": 46,
      "outputs": [
        {
          "output_type": "stream",
          "name": "stdout",
          "text": [
            "True\n",
            "True\n"
          ]
        }
      ]
    },
    {
      "cell_type": "code",
      "metadata": {
        "colab": {
          "base_uri": "https://localhost:8080/"
        },
        "id": "RYBY2QWZGajk",
        "outputId": "d291dd96-9704-4378-dd42-5094ff566430"
      },
      "source": [
        "#konversi tipe data complex\n",
        "print(complex(tipedata1))\n",
        "print(complex(tipedata2))\n",
        "print(complex(tipedata4))"
      ],
      "execution_count": 47,
      "outputs": [
        {
          "output_type": "stream",
          "name": "stdout",
          "text": [
            "(8+0j)\n",
            "(6.2+0j)\n",
            "0j\n"
          ]
        }
      ]
    }
  ]
}