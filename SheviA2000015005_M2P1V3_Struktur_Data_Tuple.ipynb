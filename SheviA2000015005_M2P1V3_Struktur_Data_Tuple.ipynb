{
  "nbformat": 4,
  "nbformat_minor": 0,
  "metadata": {
    "colab": {
      "name": "SheviA2000015005 - M2P1V3_Struktur_Data_Tuple.ipynb",
      "provenance": []
    },
    "kernelspec": {
      "name": "python3",
      "display_name": "Python 3"
    },
    "language_info": {
      "name": "python"
    }
  },
  "cells": [
    {
      "cell_type": "markdown",
      "metadata": {
        "id": "44vdzLSdQH6V"
      },
      "source": [
        "#Struktur Data Tuple"
      ]
    },
    {
      "cell_type": "code",
      "metadata": {
        "colab": {
          "base_uri": "https://localhost:8080/"
        },
        "id": "D0uvok_8QGog",
        "outputId": "f4bfa6f9-d328-4c72-8428-89fc410b653a"
      },
      "source": [
        "#Contoh Tuple\n",
        "T1 = (1, \"dua\", True, 1+2j)\n",
        "print(\"Ini adalah tuple\", T1)"
      ],
      "execution_count": 1,
      "outputs": [
        {
          "output_type": "stream",
          "name": "stdout",
          "text": [
            "Ini adalah tuple (1, 'dua', True, (1+2j))\n"
          ]
        }
      ]
    },
    {
      "cell_type": "code",
      "metadata": {
        "colab": {
          "base_uri": "https://localhost:8080/"
        },
        "id": "MZhIZFy3QbHe",
        "outputId": "c1852326-3266-4b7f-eb28-ad47deb337e9"
      },
      "source": [
        "#Menampilkan tipe struktur data\n",
        "type(T1)"
      ],
      "execution_count": 2,
      "outputs": [
        {
          "output_type": "execute_result",
          "data": {
            "text/plain": [
              "tuple"
            ]
          },
          "metadata": {},
          "execution_count": 2
        }
      ]
    },
    {
      "cell_type": "markdown",
      "metadata": {
        "id": "tMhIcvPCQkE9"
      },
      "source": [
        "##Latihan 1"
      ]
    },
    {
      "cell_type": "code",
      "metadata": {
        "colab": {
          "base_uri": "https://localhost:8080/"
        },
        "id": "RnAEJkJIQjmJ",
        "outputId": "06a01060-4957-4b2c-db53-6e31262d5361"
      },
      "source": [
        "A1 = (9, \"shevi\", True, 8+2j)\n",
        "print(\"Ini adalah tuple\", A1)\n",
        "type (A1) "
      ],
      "execution_count": 6,
      "outputs": [
        {
          "output_type": "stream",
          "name": "stdout",
          "text": [
            "Ini adalah tuple (9, 'shevi', True, (8+2j))\n"
          ]
        },
        {
          "output_type": "execute_result",
          "data": {
            "text/plain": [
              "tuple"
            ]
          },
          "metadata": {},
          "execution_count": 6
        }
      ]
    },
    {
      "cell_type": "markdown",
      "metadata": {
        "id": "mRLXcH3TQ-mx"
      },
      "source": [
        "#Sifat - Sifat Tuple"
      ]
    },
    {
      "cell_type": "code",
      "metadata": {
        "colab": {
          "base_uri": "https://localhost:8080/"
        },
        "id": "gPC6Jai9RB18",
        "outputId": "e9d845cc-4845-44dd-cb77-1086a719eebd"
      },
      "source": [
        "#Terurut/Ordered\n",
        "T1[0:3]"
      ],
      "execution_count": 10,
      "outputs": [
        {
          "output_type": "execute_result",
          "data": {
            "text/plain": [
              "(1, 'dua', True)"
            ]
          },
          "metadata": {},
          "execution_count": 10
        }
      ]
    },
    {
      "cell_type": "code",
      "metadata": {
        "colab": {
          "base_uri": "https://localhost:8080/",
          "height": 180
        },
        "id": "FbHGIizgRXhQ",
        "outputId": "77642dee-a486-4c0c-c5a9-42a924d7e0f6"
      },
      "source": [
        "#Tidak Bisa Diganti/Immutable\n",
        "T1[2] = \"manusia\""
      ],
      "execution_count": 11,
      "outputs": [
        {
          "output_type": "error",
          "ename": "TypeError",
          "evalue": "ignored",
          "traceback": [
            "\u001b[0;31m---------------------------------------------------------------------------\u001b[0m",
            "\u001b[0;31mTypeError\u001b[0m                                 Traceback (most recent call last)",
            "\u001b[0;32m<ipython-input-11-48d7e760e849>\u001b[0m in \u001b[0;36m<module>\u001b[0;34m()\u001b[0m\n\u001b[1;32m      1\u001b[0m \u001b[0;31m#Tidak Bisa Diganti/Immutable\u001b[0m\u001b[0;34m\u001b[0m\u001b[0;34m\u001b[0m\u001b[0;34m\u001b[0m\u001b[0m\n\u001b[0;32m----> 2\u001b[0;31m \u001b[0mT1\u001b[0m\u001b[0;34m[\u001b[0m\u001b[0;36m2\u001b[0m\u001b[0;34m]\u001b[0m \u001b[0;34m=\u001b[0m \u001b[0;34m\"manusia\"\u001b[0m\u001b[0;34m\u001b[0m\u001b[0;34m\u001b[0m\u001b[0m\n\u001b[0m",
            "\u001b[0;31mTypeError\u001b[0m: 'tuple' object does not support item assignment"
          ]
        }
      ]
    },
    {
      "cell_type": "code",
      "metadata": {
        "colab": {
          "base_uri": "https://localhost:8080/"
        },
        "id": "5qKVD_yARdD2",
        "outputId": "b63cc836-9d52-4487-f32a-b54981f1d759"
      },
      "source": [
        "#Dapat Diindeks/Slicing\n",
        "print('elemen kedua dari tuple T1 adalah: ', T1[1])"
      ],
      "execution_count": 12,
      "outputs": [
        {
          "output_type": "stream",
          "name": "stdout",
          "text": [
            "elemen kedua dari tuple T1 adalah:  dua\n"
          ]
        }
      ]
    },
    {
      "cell_type": "code",
      "metadata": {
        "colab": {
          "base_uri": "https://localhost:8080/"
        },
        "id": "SYETdzNXRpT9",
        "outputId": "7133f816-fe31-4bdc-a40f-063ae77c1bbc"
      },
      "source": [
        "#Dapat Diijinkan Duplikasi\n",
        "T2 = (3, 2.4, True, 2.4)\n",
        "T2"
      ],
      "execution_count": 14,
      "outputs": [
        {
          "output_type": "execute_result",
          "data": {
            "text/plain": [
              "(3, 2.4, True, 2.4)"
            ]
          },
          "metadata": {},
          "execution_count": 14
        }
      ]
    },
    {
      "cell_type": "code",
      "metadata": {
        "colab": {
          "base_uri": "https://localhost:8080/"
        },
        "id": "Xr3uYSQPR2hf",
        "outputId": "f42f0e0b-f935-488b-ced2-f58dcaf0c047"
      },
      "source": [
        "#Menggabungkan Tuple\n",
        "T3 = T1 + T2\n",
        "T3"
      ],
      "execution_count": 15,
      "outputs": [
        {
          "output_type": "execute_result",
          "data": {
            "text/plain": [
              "(1, 'dua', True, (1+2j), 3, 2.4, True, 2.4)"
            ]
          },
          "metadata": {},
          "execution_count": 15
        }
      ]
    },
    {
      "cell_type": "markdown",
      "metadata": {
        "id": "qLgLrmsgSAzw"
      },
      "source": [
        "##Latihan 2"
      ]
    },
    {
      "cell_type": "code",
      "metadata": {
        "colab": {
          "base_uri": "https://localhost:8080/"
        },
        "id": "0-VAwByGSDRK",
        "outputId": "24f17ec2-574b-4686-863b-f5323e1f853f"
      },
      "source": [
        "#Terurut/Ordered\n",
        "A1[0:3]"
      ],
      "execution_count": 16,
      "outputs": [
        {
          "output_type": "execute_result",
          "data": {
            "text/plain": [
              "(9, 'shevi', True)"
            ]
          },
          "metadata": {},
          "execution_count": 16
        }
      ]
    },
    {
      "cell_type": "code",
      "metadata": {
        "colab": {
          "base_uri": "https://localhost:8080/",
          "height": 180
        },
        "id": "G0max_z7SMzP",
        "outputId": "d3c95796-4461-412b-d2dc-4f1f941c180f"
      },
      "source": [
        "#Tidak Bisa Diganti/Immutable\n",
        "A1[3] = \"Hallo Guys\""
      ],
      "execution_count": 17,
      "outputs": [
        {
          "output_type": "error",
          "ename": "TypeError",
          "evalue": "ignored",
          "traceback": [
            "\u001b[0;31m---------------------------------------------------------------------------\u001b[0m",
            "\u001b[0;31mTypeError\u001b[0m                                 Traceback (most recent call last)",
            "\u001b[0;32m<ipython-input-17-65f508da6730>\u001b[0m in \u001b[0;36m<module>\u001b[0;34m()\u001b[0m\n\u001b[1;32m      1\u001b[0m \u001b[0;31m#Tidak Bisa Diganti/Immutable\u001b[0m\u001b[0;34m\u001b[0m\u001b[0;34m\u001b[0m\u001b[0;34m\u001b[0m\u001b[0m\n\u001b[0;32m----> 2\u001b[0;31m \u001b[0mA1\u001b[0m\u001b[0;34m[\u001b[0m\u001b[0;36m3\u001b[0m\u001b[0;34m]\u001b[0m \u001b[0;34m=\u001b[0m \u001b[0;34m\"Hallo Guys\"\u001b[0m\u001b[0;34m\u001b[0m\u001b[0;34m\u001b[0m\u001b[0m\n\u001b[0m",
            "\u001b[0;31mTypeError\u001b[0m: 'tuple' object does not support item assignment"
          ]
        }
      ]
    },
    {
      "cell_type": "code",
      "metadata": {
        "colab": {
          "base_uri": "https://localhost:8080/"
        },
        "id": "byDMtIwVSYcR",
        "outputId": "18a419aa-011b-4a27-c95b-e8137671d5c9"
      },
      "source": [
        "#Dapat Diindeks/Slicing\n",
        "print(\"elemen kedua dari Tuple A1 adalah: \", A1[1])"
      ],
      "execution_count": 18,
      "outputs": [
        {
          "output_type": "stream",
          "name": "stdout",
          "text": [
            "elemen kedua dari Tuple A1 adalah:  shevi\n"
          ]
        }
      ]
    },
    {
      "cell_type": "code",
      "metadata": {
        "colab": {
          "base_uri": "https://localhost:8080/"
        },
        "id": "0BmApznaSZ_v",
        "outputId": "cd84e12a-59a4-4dae-b8b6-e30ce603be32"
      },
      "source": [
        "#Dapat Diijinkan Duplikasi\n",
        "A2 = (5, 4.1, False, 4.1)\n",
        "A2"
      ],
      "execution_count": 19,
      "outputs": [
        {
          "output_type": "execute_result",
          "data": {
            "text/plain": [
              "(5, 4.1, False, 4.1)"
            ]
          },
          "metadata": {},
          "execution_count": 19
        }
      ]
    },
    {
      "cell_type": "code",
      "metadata": {
        "colab": {
          "base_uri": "https://localhost:8080/"
        },
        "id": "ZlAF72KbSacI",
        "outputId": "b4520904-fc4c-4d90-9792-5945112057dc"
      },
      "source": [
        "#Menggabungkan Tuple\n",
        "A3 = A1 + A2\n",
        "A3"
      ],
      "execution_count": 20,
      "outputs": [
        {
          "output_type": "execute_result",
          "data": {
            "text/plain": [
              "(9, 'shevi', True, (8+2j), 5, 4.1, False, 4.1)"
            ]
          },
          "metadata": {},
          "execution_count": 20
        }
      ]
    }
  ]
}