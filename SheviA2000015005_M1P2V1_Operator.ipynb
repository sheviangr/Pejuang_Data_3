{
  "nbformat": 4,
  "nbformat_minor": 0,
  "metadata": {
    "colab": {
      "name": "SheviA2000015005 - M1P2V1_Operator.ipynb",
      "provenance": []
    },
    "kernelspec": {
      "name": "python3",
      "display_name": "Python 3"
    },
    "language_info": {
      "name": "python"
    }
  },
  "cells": [
    {
      "cell_type": "markdown",
      "metadata": {
        "id": "Rp2vvj65vmhF"
      },
      "source": [
        "#Operator"
      ]
    },
    {
      "cell_type": "markdown",
      "metadata": {
        "id": "HBxlEAZHwLGQ"
      },
      "source": [
        "1. Operator Aritmatika\n",
        "2. Operator Assignment\n",
        "3. Operator Pembanding\n",
        "4. Operator Logika\n",
        "5. Operator Membership"
      ]
    },
    {
      "cell_type": "markdown",
      "metadata": {
        "id": "cL3P44Nlzj9i"
      },
      "source": [
        "##Operator Aritmatika"
      ]
    },
    {
      "cell_type": "code",
      "metadata": {
        "colab": {
          "base_uri": "https://localhost:8080/"
        },
        "id": "Kjzoglovwphj",
        "outputId": "352e733c-34cc-4561-f052-afabeb5dd6b6"
      },
      "source": [
        "#Operator Aritmatika\n",
        "\n",
        "#Penjumlahan\n",
        "print('Penjumlahan')\n",
        "print(2+2)\n",
        "#Pengurangan\n",
        "print('-'*20)\n",
        "print('Pengurangan')\n",
        "print(2-3)\n",
        "#Perkalian\n",
        "print('-'*20)\n",
        "print('Perkalian')\n",
        "print(2*3)\n",
        "#Pembagian\n",
        "print('-'*20)\n",
        "print('Pembagian')\n",
        "print(2/3)\n",
        "#Modulus\n",
        "print('-'*20)\n",
        "print('Modulus')\n",
        "print(2%3)\n",
        "#Perpangkatan\n",
        "print('-'*20)\n",
        "print('Perpangkatan')\n",
        "print(2**3)\n",
        "#Pembagian Pembulatan Floring\n",
        "print('-'*20)\n",
        "print('Pembagian Pembulatan Floring')\n",
        "print(3//2)"
      ],
      "execution_count": 3,
      "outputs": [
        {
          "output_type": "stream",
          "name": "stdout",
          "text": [
            "Penjumlahan\n",
            "4\n",
            "--------------------\n",
            "Pengurangan\n",
            "-1\n",
            "--------------------\n",
            "Perkalian\n",
            "6\n",
            "--------------------\n",
            "Pembagian\n",
            "0.6666666666666666\n",
            "--------------------\n",
            "Modulus\n",
            "2\n",
            "--------------------\n",
            "Perpangkatan\n",
            "8\n",
            "--------------------\n",
            "Pembagian Pembulatan Floring\n",
            "1\n"
          ]
        }
      ]
    },
    {
      "cell_type": "markdown",
      "metadata": {
        "id": "DTk_vRLty2KC"
      },
      "source": [
        "###Latihan Operator 1"
      ]
    },
    {
      "cell_type": "code",
      "metadata": {
        "colab": {
          "base_uri": "https://localhost:8080/"
        },
        "id": "RI69YyQ5yzxR",
        "outputId": "d4f9c50b-76c3-4409-f707-951034406652"
      },
      "source": [
        "#Penjumlahan\n",
        "print('Penjumlahan')\n",
        "print(8+3)\n",
        "#Pengurangan\n",
        "print('-'*20)\n",
        "print('Pengurangan')\n",
        "print(5-3)\n",
        "#Perkalian\n",
        "print('-'*20)\n",
        "print('Perkalian')\n",
        "print(3*7)\n",
        "#Pembagian\n",
        "print('-'*20)\n",
        "print('Pembagian')\n",
        "print(10/4)\n",
        "#Modulus\n",
        "print('-'*20)\n",
        "print('Modulus')\n",
        "print(3%4)\n",
        "#Perpangkatan\n",
        "print('-'*20)\n",
        "print('Perpangkatan')\n",
        "print(2**5)\n",
        "#Pembagian Pembulatan Floring\n",
        "print('-'*20)\n",
        "print('Pembagian Pembulatan Floring')\n",
        "print(9//4)"
      ],
      "execution_count": 4,
      "outputs": [
        {
          "output_type": "stream",
          "name": "stdout",
          "text": [
            "Penjumlahan\n",
            "11\n",
            "--------------------\n",
            "Pengurangan\n",
            "2\n",
            "--------------------\n",
            "Perkalian\n",
            "21\n",
            "--------------------\n",
            "Pembagian\n",
            "2.5\n",
            "--------------------\n",
            "Modulus\n",
            "3\n",
            "--------------------\n",
            "Perpangkatan\n",
            "32\n",
            "--------------------\n",
            "Pembagian Pembulatan Floring\n",
            "2\n"
          ]
        }
      ]
    },
    {
      "cell_type": "markdown",
      "metadata": {
        "id": "Ee9CSrkfzziW"
      },
      "source": [
        "##Operator Assigment"
      ]
    },
    {
      "cell_type": "code",
      "metadata": {
        "colab": {
          "base_uri": "https://localhost:8080/"
        },
        "id": "dhTWQ9L2zhA-",
        "outputId": "2ba6bbf4-b82a-44ca-dd83-fb9aabb8e809"
      },
      "source": [
        "#Operator Assigment\n",
        "\n",
        "#Penjumlahan\n",
        "print('Penjumlahan')\n",
        "x=5\n",
        "x=x+5\n",
        "print(x)\n",
        "x=5\n",
        "x+=3\n",
        "print(x)\n",
        "print('-'*20)\n",
        "\n",
        "#Pengurangan\n",
        "print('Pengurangan')\n",
        "x=5\n",
        "x=x-5\n",
        "print(x)\n",
        "x=5\n",
        "x-=3\n",
        "print(x)\n",
        "print('-'*20)\n",
        "\n",
        "#Perkalian\n",
        "print('Perkalian')\n",
        "x=5\n",
        "x=x*5\n",
        "print(x)\n",
        "x=5\n",
        "x*=3\n",
        "print(x)\n",
        "print('-'*20)\n",
        "\n",
        "#Pembagian\n",
        "print('Pembagian')\n",
        "x=5\n",
        "x=x/5\n",
        "print(x)\n",
        "x=5\n",
        "x/=3\n",
        "print(x)\n",
        "print('-'*20)\n",
        "\n",
        "#Modulus\n",
        "print('Modulus')\n",
        "x=5\n",
        "x=x%5\n",
        "print(x)\n",
        "x=5\n",
        "x%=3\n",
        "print(x)\n",
        "print('-'*20)\n",
        "\n",
        "#Pembagian Floring\n",
        "print('Pembagian Floring')\n",
        "x=5\n",
        "x=x//5\n",
        "print(x)\n",
        "x=5\n",
        "x//=3\n",
        "print(x)\n",
        "print('-'*20)\n",
        "\n",
        "#Perpangkatan\n",
        "print('Perpangkatan')\n",
        "x=5\n",
        "x=x**5\n",
        "print(x)\n",
        "x=5\n",
        "x**=3\n",
        "print(x)"
      ],
      "execution_count": 8,
      "outputs": [
        {
          "output_type": "stream",
          "name": "stdout",
          "text": [
            "Penjumlahan\n",
            "10\n",
            "8\n",
            "--------------------\n",
            "Pengurangan\n",
            "0\n",
            "2\n",
            "--------------------\n",
            "Perkalian\n",
            "25\n",
            "15\n",
            "--------------------\n",
            "Pembagian\n",
            "1.0\n",
            "1.6666666666666667\n",
            "--------------------\n",
            "Modulus\n",
            "0\n",
            "2\n",
            "--------------------\n",
            "Pembagian Floring\n",
            "1\n",
            "1\n",
            "--------------------\n",
            "Perpangkatan\n",
            "3125\n",
            "125\n"
          ]
        }
      ]
    },
    {
      "cell_type": "markdown",
      "metadata": {
        "id": "FQso2Lnj4qTH"
      },
      "source": [
        "###Latihan Operator 2"
      ]
    },
    {
      "cell_type": "code",
      "metadata": {
        "colab": {
          "base_uri": "https://localhost:8080/"
        },
        "id": "dSIY2xRB4uKc",
        "outputId": "4ee3ceb3-dbe7-44fe-eddf-5290cb01e81f"
      },
      "source": [
        "#Penjumlahan\n",
        "print('Penjumlahan')\n",
        "x=8\n",
        "x=x+3\n",
        "print(x)\n",
        "x=2\n",
        "x+=8\n",
        "print(x)\n",
        "print('-'*20)\n",
        "\n",
        "#Pengurangan\n",
        "print('Pengurangan')\n",
        "x=2\n",
        "x=x-4\n",
        "print(x)\n",
        "x=8\n",
        "x-=6\n",
        "print(x)\n",
        "print('-'*20)\n",
        "\n",
        "#Perkalian\n",
        "print('Perkalian')\n",
        "x=4\n",
        "x=x*6\n",
        "print(x)\n",
        "x=3\n",
        "x*=5\n",
        "print(x)\n",
        "print('-'*20)\n",
        "\n",
        "#Pembagian\n",
        "print('Pembagian')\n",
        "x=9\n",
        "x=x/3\n",
        "print(x)\n",
        "x=16\n",
        "x/=2\n",
        "print(x)\n",
        "print('-'*20)\n",
        "\n",
        "#Modulus\n",
        "print('Modulus')\n",
        "x=6\n",
        "x=x%3\n",
        "print(x)\n",
        "x=9\n",
        "x%=2\n",
        "print(x)\n",
        "print('-'*20)\n",
        "\n",
        "#Pembagian Floring\n",
        "print('Pembagian Floring')\n",
        "x=7\n",
        "x=x//2\n",
        "print(x)\n",
        "x=6\n",
        "x//=4\n",
        "print(x)\n",
        "print('-'*20)\n",
        "\n",
        "#Perpangkatan\n",
        "print('Perpangkatan')\n",
        "x=3\n",
        "x=x**7\n",
        "print(x)\n",
        "x=9\n",
        "x**=2\n",
        "print(x)"
      ],
      "execution_count": 9,
      "outputs": [
        {
          "output_type": "stream",
          "name": "stdout",
          "text": [
            "Penjumlahan\n",
            "11\n",
            "10\n",
            "--------------------\n",
            "Pengurangan\n",
            "-2\n",
            "2\n",
            "--------------------\n",
            "Perkalian\n",
            "24\n",
            "15\n",
            "--------------------\n",
            "Pembagian\n",
            "3.0\n",
            "8.0\n",
            "--------------------\n",
            "Modulus\n",
            "0\n",
            "1\n",
            "--------------------\n",
            "Pembagian Floring\n",
            "3\n",
            "1\n",
            "--------------------\n",
            "Perpangkatan\n",
            "2187\n",
            "81\n"
          ]
        }
      ]
    },
    {
      "cell_type": "markdown",
      "metadata": {
        "id": "9SKBNQwT5lha"
      },
      "source": [
        "##Operator Pembanding"
      ]
    },
    {
      "cell_type": "code",
      "metadata": {
        "colab": {
          "base_uri": "https://localhost:8080/"
        },
        "id": "lEa4qL-25r2x",
        "outputId": "710a4ac8-0daf-4cd4-d04b-1fc0f577f489"
      },
      "source": [
        "#Operator Pembanding\n",
        "\n",
        "print(2==2)\n",
        "print(2!=2)\n",
        "print(2>2)\n",
        "print(2<2)\n",
        "print(2>=2)\n",
        "print(2<=2)"
      ],
      "execution_count": 10,
      "outputs": [
        {
          "output_type": "stream",
          "name": "stdout",
          "text": [
            "True\n",
            "False\n",
            "False\n",
            "False\n",
            "True\n",
            "True\n"
          ]
        }
      ]
    },
    {
      "cell_type": "markdown",
      "metadata": {
        "id": "oQ6SXX8H6I8Z"
      },
      "source": [
        "###Latihan Operator 3"
      ]
    },
    {
      "cell_type": "code",
      "metadata": {
        "colab": {
          "base_uri": "https://localhost:8080/"
        },
        "id": "_67UFw3Z6L33",
        "outputId": "d1a5e427-faff-476f-94bc-1c61c9201793"
      },
      "source": [
        "print(7==5)\n",
        "print(5!=7)\n",
        "print(7>2)\n",
        "print(9<5)\n",
        "print(8>=6)\n",
        "print(4<=3)"
      ],
      "execution_count": 11,
      "outputs": [
        {
          "output_type": "stream",
          "name": "stdout",
          "text": [
            "False\n",
            "True\n",
            "True\n",
            "False\n",
            "True\n",
            "False\n"
          ]
        }
      ]
    },
    {
      "cell_type": "markdown",
      "metadata": {
        "id": "uFUICnS28WbN"
      },
      "source": [
        "##Operator Logika"
      ]
    },
    {
      "cell_type": "code",
      "metadata": {
        "colab": {
          "base_uri": "https://localhost:8080/"
        },
        "id": "qk68SGfk8bIu",
        "outputId": "559fa854-6c48-4b25-d8cb-4dbc2c746ed4"
      },
      "source": [
        "#Operator Logika\n",
        "\n",
        "print(True and False)\n",
        "print(False or False)\n",
        "print(not False and True)"
      ],
      "execution_count": 12,
      "outputs": [
        {
          "output_type": "stream",
          "name": "stdout",
          "text": [
            "False\n",
            "False\n",
            "True\n"
          ]
        }
      ]
    },
    {
      "cell_type": "markdown",
      "metadata": {
        "id": "DkSG02ez8umk"
      },
      "source": [
        "###Latihan Operator 4"
      ]
    },
    {
      "cell_type": "code",
      "metadata": {
        "colab": {
          "base_uri": "https://localhost:8080/"
        },
        "id": "EWtey1fy8xn0",
        "outputId": "528ecc4c-fe2e-4009-e079-d7b9ebcf4e42"
      },
      "source": [
        "print(False and True)\n",
        "print(True or False)\n",
        "print(not True and False)"
      ],
      "execution_count": 13,
      "outputs": [
        {
          "output_type": "stream",
          "name": "stdout",
          "text": [
            "False\n",
            "True\n",
            "False\n"
          ]
        }
      ]
    },
    {
      "cell_type": "markdown",
      "metadata": {
        "id": "xR1iBtfa9IDh"
      },
      "source": [
        "##Operator Keanggotaan"
      ]
    },
    {
      "cell_type": "code",
      "metadata": {
        "colab": {
          "base_uri": "https://localhost:8080/"
        },
        "id": "X-pPEdCC9LVa",
        "outputId": "ddb903aa-529c-4143-e227-0b778b2135d3"
      },
      "source": [
        "#Operator Keanggotaan\n",
        "\n",
        "a=(1,2,3,4,5,6)\n",
        "b=2\n",
        "print(b in a)\n",
        "print('-'*20)\n",
        "a=(1,2,3,4,5,6)\n",
        "b=7\n",
        "print(b not in a)"
      ],
      "execution_count": 14,
      "outputs": [
        {
          "output_type": "stream",
          "name": "stdout",
          "text": [
            "True\n",
            "--------------------\n",
            "True\n"
          ]
        }
      ]
    },
    {
      "cell_type": "markdown",
      "metadata": {
        "id": "1SJ-Q2X49nB3"
      },
      "source": [
        "###Latihan Operator 5"
      ]
    },
    {
      "cell_type": "code",
      "metadata": {
        "colab": {
          "base_uri": "https://localhost:8080/"
        },
        "id": "BeuJZHia9qd4",
        "outputId": "a9e244da-bc42-489c-9938-6ea39f0b573a"
      },
      "source": [
        "a=(2,4,7,3,8,6)\n",
        "b=1\n",
        "print(b in a)\n",
        "\n",
        "print('-'*20)\n",
        "\n",
        "a=(2,4,7,3,8,6)\n",
        "b=5\n",
        "print(b not in a)"
      ],
      "execution_count": 17,
      "outputs": [
        {
          "output_type": "stream",
          "name": "stdout",
          "text": [
            "False\n",
            "--------------------\n",
            "True\n"
          ]
        }
      ]
    }
  ]
}