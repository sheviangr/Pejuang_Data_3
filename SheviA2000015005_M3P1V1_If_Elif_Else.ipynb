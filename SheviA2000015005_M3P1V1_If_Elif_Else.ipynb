{
  "nbformat": 4,
  "nbformat_minor": 0,
  "metadata": {
    "colab": {
      "name": "SheviA2000015005 - M3P1V1_If_Elif_Else.ipynb",
      "provenance": []
    },
    "kernelspec": {
      "name": "python3",
      "display_name": "Python 3"
    },
    "language_info": {
      "name": "python"
    }
  },
  "cells": [
    {
      "cell_type": "markdown",
      "metadata": {
        "id": "qzZBlipiruWF"
      },
      "source": [
        "**Percabangan/Struktur Pemilihan**"
      ]
    },
    {
      "cell_type": "markdown",
      "metadata": {
        "id": "vw2hJyPWr7D3"
      },
      "source": [
        "##IF Statements"
      ]
    },
    {
      "cell_type": "code",
      "metadata": {
        "colab": {
          "base_uri": "https://localhost:8080/"
        },
        "id": "XKTNy-scrfkY",
        "outputId": "40eb4190-a823-407b-df99-4e1cd7ec941e"
      },
      "source": [
        "#Jika angka adalah bilangan positif maka print \"adalah bilangan positif\"\n",
        "\n",
        "angka = 3\n",
        "if angka > 0:\n",
        "  print(angka, \"adalah bilangan positif.\")\n",
        "print(\"Pernyataan ini selalu ditampilkan.\")\n",
        "print(\"-\"*20)\n",
        "angka = -1\n",
        "if angka > 0:\n",
        "  print(angka, \"adalah bilangan positif.\")\n",
        "print(\"Pernyataan ini juga selalu ditampilkan.\")"
      ],
      "execution_count": 3,
      "outputs": [
        {
          "output_type": "stream",
          "name": "stdout",
          "text": [
            "3 adalah bilangan positif.\n",
            "Pernyataan ini selalu ditampilkan.\n",
            "--------------------\n",
            "Pernyataan ini juga selalu ditampilkan.\n"
          ]
        }
      ]
    },
    {
      "cell_type": "markdown",
      "metadata": {
        "id": "dqpp8DzlxKt9"
      },
      "source": [
        "##IF ELSE Statements"
      ]
    },
    {
      "cell_type": "code",
      "metadata": {
        "colab": {
          "base_uri": "https://localhost:8080/"
        },
        "id": "L8LNJcKFxN9t",
        "outputId": "d092a8cb-95aa-47d4-9a20-73c9b17cbafa"
      },
      "source": [
        "# Program disusun untuk mengecek apakah angka tersebut kurang dari 0 atau tidak\n",
        "# dan menampilkan tulisan yang sesuai\n",
        "\n",
        "angka = 3\n",
        "\n",
        "if angka >= 0:\n",
        "  print(\"Bilangan lebih dari atau samadengan 0\")\n",
        "else:\n",
        "  print(\"Bilangan kurang dari 0\")"
      ],
      "execution_count": 4,
      "outputs": [
        {
          "output_type": "stream",
          "name": "stdout",
          "text": [
            "Bilangan lebih dari atau samadengan 0\n"
          ]
        }
      ]
    },
    {
      "cell_type": "code",
      "metadata": {
        "colab": {
          "base_uri": "https://localhost:8080/"
        },
        "id": "5vr4i7ORx17-",
        "outputId": "0a8c8f2d-22ae-4c3a-b178-c1a26c327612"
      },
      "source": [
        "# Program disusun untuk mengecek apakah dua buah angka sama atau tidak\n",
        "# dan menampilkan tulisan yang sesuai\n",
        "\n",
        "a = 5\n",
        "b = 5\n",
        "\n",
        "if a==b:\n",
        "  print(\"a dan b bernilai sama\")\n",
        "else:\n",
        "  print(\"a dan b bernilai berbeda\")\n",
        "  print(\"Belajar If Else\")"
      ],
      "execution_count": 5,
      "outputs": [
        {
          "output_type": "stream",
          "name": "stdout",
          "text": [
            "a dan b bernilai sama\n"
          ]
        }
      ]
    },
    {
      "cell_type": "code",
      "metadata": {
        "colab": {
          "base_uri": "https://localhost:8080/"
        },
        "id": "8ua74zEhyR5N",
        "outputId": "352b47fb-7bac-42ec-8bfd-deda9c022475"
      },
      "source": [
        "# Program disusun untuk mengecek apakah perbandingan dua buah angka\n",
        "# dan menampilkan tulisan yang sesuai\n",
        "\n",
        "# membaca dua angka\n",
        "bil1 = int(input(\"Masukkan bilangan pertama: \"))\n",
        "bil2 = int(input(\"Masukkan bilangan kedua: \"))\n",
        "\n",
        "# memilih bilangan yang lebih besar\n",
        "if bil1 > bil2:\n",
        "  bil_lebih_besar = bil1\n",
        "else:\n",
        "  bil_lebih_besar = bil2\n",
        "\n",
        "# menampilkan hasil\n",
        "print(\"Bilangan yang lebih besar adalah:\", bil_lebih_besar)"
      ],
      "execution_count": 9,
      "outputs": [
        {
          "output_type": "stream",
          "name": "stdout",
          "text": [
            "Masukkan bilangan pertama: 8\n",
            "Masukkan bilangan kedua: 7\n",
            "Bilangan yang lebih besar adalah: 8\n"
          ]
        }
      ]
    },
    {
      "cell_type": "markdown",
      "metadata": {
        "id": "Ww0LUAmAzW9w"
      },
      "source": [
        "##IF ELIF ELSE Statements"
      ]
    },
    {
      "cell_type": "code",
      "metadata": {
        "colab": {
          "base_uri": "https://localhost:8080/"
        },
        "id": "7_bVM5DGzHt-",
        "outputId": "dfb925b1-1b9f-4363-87c7-b703e7180be3"
      },
      "source": [
        "# Program disusun untuk mengecek apakah angka merupakan bilangan positif, negatif atau nol\n",
        "# dan menampilkan tulisan yang sesuai\n",
        "\n",
        "angka = 3.4\n",
        "if angka > 0:\n",
        "  print(\"Bilangan Positif\")\n",
        "elif angka == 0:\n",
        "  print(\"Nol\")\n",
        "else:\n",
        "  print(\"Bilangan Negatif\")"
      ],
      "execution_count": 10,
      "outputs": [
        {
          "output_type": "stream",
          "name": "stdout",
          "text": [
            "Bilangan Positif\n"
          ]
        }
      ]
    },
    {
      "cell_type": "code",
      "metadata": {
        "colab": {
          "base_uri": "https://localhost:8080/"
        },
        "id": "-6YikDOw0SwH",
        "outputId": "bec38cb6-f299-4935-f746-8458566c1b86"
      },
      "source": [
        "# Statement If\n",
        "x = 4\n",
        "if x % 2 == 0: # jika x dibagi 2 sisanya samadengan 0\n",
        "  print(\"x habis dibagi dua\")\n",
        "print(\"-\"*20)\n",
        "# Statement if ... elif ... else\n",
        "x = 7\n",
        "if x % 2 == 0: # jika x dibagi 2 sisanya samadengan 0\n",
        "  print(\"x habis dibagi dua\")\n",
        "elif x % 3 == 0: # jika x dibagi 3 sisanya samadengan 0\n",
        "  print(\"x habis dibagi tiga\")\n",
        "elif x % 5 == 0: # jika x dibagi 5 sisanya samadengan 0\n",
        "  print(\"x habis dibagi lima\")\n",
        "else:\n",
        "  print(\"x tidak habis dibagi dua, tiga ataupun lima\")"
      ],
      "execution_count": 11,
      "outputs": [
        {
          "output_type": "stream",
          "name": "stdout",
          "text": [
            "x habis dibagi dua\n",
            "--------------------\n",
            "x tidak habis dibagi dua, tiga ataupun lima\n"
          ]
        }
      ]
    },
    {
      "cell_type": "markdown",
      "metadata": {
        "id": "KGHV7A9r15QL"
      },
      "source": [
        "##Python Nested IF Statements"
      ]
    },
    {
      "cell_type": "code",
      "metadata": {
        "colab": {
          "base_uri": "https://localhost:8080/"
        },
        "id": "WkkAWJ941_JY",
        "outputId": "0d0324a4-c0eb-48a5-9cd0-9b55be96be3a"
      },
      "source": [
        "# Program disusun untuk mengecek apakah angka merupakan bilangan positif, negatif atau nol\n",
        "# dan menampilkan tulisan yang sesuai\n",
        "\n",
        "angka = float(input(\"Masukkan angka: \"))\n",
        "if angka >= 0:\n",
        "  if angka == 0:\n",
        "    print(\"Nol\")\n",
        "  else:\n",
        "    print(\"Bilangan Positif\")\n",
        "else:\n",
        "  print(\"Bilangan Negatif\")"
      ],
      "execution_count": 12,
      "outputs": [
        {
          "output_type": "stream",
          "name": "stdout",
          "text": [
            "Masukkan angka: 9\n",
            "Bilangan Positif\n"
          ]
        }
      ]
    },
    {
      "cell_type": "markdown",
      "metadata": {
        "id": "Y5L62-rt2n98"
      },
      "source": [
        "#**Latihan**\n",
        "Buatlah sebuah fungsi \"Mahal_Diskon\" dengan ketentuan:\n",
        "\n",
        "\n",
        "*   Input berupa data harga produk dengan tipe data numerik Tunggal\n",
        "*   Kategori Input adalah \"Murah\" dan \"Mahal\", kemudian diskon ada 3 kategori \"10%\", \"20%\", dan \"40%\"\n",
        "*   Output Pertama sebuah teks/string yang menyatakan \"Mahal\" atau \"Murah\" dan Keterangan \"Kamu Dapat Diskon ...\" \n",
        "*   Output Kedua adalah harga yang perlu dibayarkan\n",
        "\n",
        "\n",
        "\n"
      ]
    },
    {
      "cell_type": "code",
      "metadata": {
        "colab": {
          "base_uri": "https://localhost:8080/"
        },
        "id": "IaUBIi2133FX",
        "outputId": "893c653c-655c-4bac-b4fc-778414774a7d"
      },
      "source": [
        "harga_produk = int(input(\"Masukkan harga produk: \"))\n",
        "diskon = harga_produk * (int(input(\"diskon: \"))/100)\n",
        "\n",
        "if harga_produk <= 100000:\n",
        "  print(\"Murah\", \",\", \"Kamu Dapat Diskon: \", diskon)\n",
        "elif harga_produk == 100000:\n",
        "  print(\"Mahal\", \",\", \"Kamu Dapat Diskon: \", diskon)\n",
        "else:\n",
        "  print(\"Mahal\", \",\", \"Kamu Dapat Diskon: \", diskon)\n",
        "\n",
        "Total = harga_produk - diskon\n",
        "print(\"Harga yang harus dibayarkan: \", Total)"
      ],
      "execution_count": 25,
      "outputs": [
        {
          "output_type": "stream",
          "name": "stdout",
          "text": [
            "Masukkan harga produk: 200000\n",
            "diskon: 40\n",
            "Mahal , Kamu Dapat Diskon:  80000.0\n",
            "Harga yang harus dibayarkan:  120000.0\n"
          ]
        }
      ]
    }
  ]
}